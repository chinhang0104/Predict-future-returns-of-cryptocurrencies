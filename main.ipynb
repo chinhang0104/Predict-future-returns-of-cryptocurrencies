{
  "nbformat": 4,
  "nbformat_minor": 0,
  "metadata": {
    "accelerator": "GPU",
    "colab": {
      "name": "kaggle.ipynb",
      "provenance": [],
      "collapsed_sections": [],
      "toc_visible": true
    },
    "kernelspec": {
      "display_name": "Python 3",
      "language": "python",
      "name": "python3"
    },
    "language_info": {
      "codemirror_mode": {
        "name": "ipython",
        "version": 3
      },
      "file_extension": ".py",
      "mimetype": "text/x-python",
      "name": "python",
      "nbconvert_exporter": "python",
      "pygments_lexer": "ipython3",
      "version": "3.8.3"
    },
    "widgets": {
      "application/vnd.jupyter.widget-state+json": {
        "1db5d607045b4d69a4a8f9c71aacc979": {
          "model_module": "@jupyter-widgets/controls",
          "model_name": "HBoxModel",
          "state": {
            "_dom_classes": [],
            "_model_module": "@jupyter-widgets/controls",
            "_model_module_version": "1.5.0",
            "_model_name": "HBoxModel",
            "_view_count": null,
            "_view_module": "@jupyter-widgets/controls",
            "_view_module_version": "1.5.0",
            "_view_name": "HBoxView",
            "box_style": "",
            "children": [
              "IPY_MODEL_e97c7567e25348de93fa18934e453ac0",
              "IPY_MODEL_96ce324e2a734912a81d8260de4ea94b"
            ],
            "layout": "IPY_MODEL_851d03f4dcfe4f5fb5565bc3b4bfbc7e"
          }
        },
        "851d03f4dcfe4f5fb5565bc3b4bfbc7e": {
          "model_module": "@jupyter-widgets/base",
          "model_name": "LayoutModel",
          "state": {
            "_model_module": "@jupyter-widgets/base",
            "_model_module_version": "1.2.0",
            "_model_name": "LayoutModel",
            "_view_count": null,
            "_view_module": "@jupyter-widgets/base",
            "_view_module_version": "1.2.0",
            "_view_name": "LayoutView",
            "align_content": null,
            "align_items": null,
            "align_self": null,
            "border": null,
            "bottom": null,
            "display": "inline-flex",
            "flex": null,
            "flex_flow": "row wrap",
            "grid_area": null,
            "grid_auto_columns": null,
            "grid_auto_flow": null,
            "grid_auto_rows": null,
            "grid_column": null,
            "grid_gap": null,
            "grid_row": null,
            "grid_template_areas": null,
            "grid_template_columns": null,
            "grid_template_rows": null,
            "height": null,
            "justify_content": null,
            "justify_items": null,
            "left": null,
            "margin": null,
            "max_height": null,
            "max_width": null,
            "min_height": null,
            "min_width": null,
            "object_fit": null,
            "object_position": null,
            "order": null,
            "overflow": null,
            "overflow_x": null,
            "overflow_y": null,
            "padding": null,
            "right": null,
            "top": null,
            "visibility": null,
            "width": "100%"
          }
        },
        "e97c7567e25348de93fa18934e453ac0": {
          "model_module": "@jupyter-widgets/controls",
          "model_name": "FloatProgressModel",
          "state": {
            "_dom_classes": [],
            "_model_module": "@jupyter-widgets/controls",
            "_model_module_version": "1.5.0",
            "_model_name": "FloatProgressModel",
            "_view_count": null,
            "_view_module": "@jupyter-widgets/controls",
            "_view_module_version": "1.5.0",
            "_view_name": "ProgressView",
            "bar_style": "info",
            "description": "Validation sanity check: 100%",
            "description_tooltip": null,
            "layout": "IPY_MODEL_265d49ead88441d59689dd9503b39af2",
            "max": 1,
            "min": 0,
            "orientation": "horizontal",
            "style": "IPY_MODEL_9eb1f622c04a4be4bbdfdefb3cdf0e11",
            "value": 1
          }
        },
        "96ce324e2a734912a81d8260de4ea94b": {
          "model_module": "@jupyter-widgets/controls",
          "model_name": "HTMLModel",
          "state": {
            "_dom_classes": [],
            "_model_module": "@jupyter-widgets/controls",
            "_model_module_version": "1.5.0",
            "_model_name": "HTMLModel",
            "_view_count": null,
            "_view_module": "@jupyter-widgets/controls",
            "_view_module_version": "1.5.0",
            "_view_name": "HTMLView",
            "description": "",
            "description_tooltip": null,
            "layout": "IPY_MODEL_016435bcf0ea48658a372fffa52da701",
            "placeholder": "​",
            "style": "IPY_MODEL_a62a7169f77845f6be55fb25473c0a9f",
            "value": " 1/1 [00:01&lt;00:00,  1.25it/s]"
          }
        },
        "9eb1f622c04a4be4bbdfdefb3cdf0e11": {
          "model_module": "@jupyter-widgets/controls",
          "model_name": "ProgressStyleModel",
          "state": {
            "_model_module": "@jupyter-widgets/controls",
            "_model_module_version": "1.5.0",
            "_model_name": "ProgressStyleModel",
            "_view_count": null,
            "_view_module": "@jupyter-widgets/base",
            "_view_module_version": "1.2.0",
            "_view_name": "StyleView",
            "bar_color": null,
            "description_width": "initial"
          }
        },
        "265d49ead88441d59689dd9503b39af2": {
          "model_module": "@jupyter-widgets/base",
          "model_name": "LayoutModel",
          "state": {
            "_model_module": "@jupyter-widgets/base",
            "_model_module_version": "1.2.0",
            "_model_name": "LayoutModel",
            "_view_count": null,
            "_view_module": "@jupyter-widgets/base",
            "_view_module_version": "1.2.0",
            "_view_name": "LayoutView",
            "align_content": null,
            "align_items": null,
            "align_self": null,
            "border": null,
            "bottom": null,
            "display": null,
            "flex": "2",
            "flex_flow": null,
            "grid_area": null,
            "grid_auto_columns": null,
            "grid_auto_flow": null,
            "grid_auto_rows": null,
            "grid_column": null,
            "grid_gap": null,
            "grid_row": null,
            "grid_template_areas": null,
            "grid_template_columns": null,
            "grid_template_rows": null,
            "height": null,
            "justify_content": null,
            "justify_items": null,
            "left": null,
            "margin": null,
            "max_height": null,
            "max_width": null,
            "min_height": null,
            "min_width": null,
            "object_fit": null,
            "object_position": null,
            "order": null,
            "overflow": null,
            "overflow_x": null,
            "overflow_y": null,
            "padding": null,
            "right": null,
            "top": null,
            "visibility": null,
            "width": null
          }
        },
        "a62a7169f77845f6be55fb25473c0a9f": {
          "model_module": "@jupyter-widgets/controls",
          "model_name": "DescriptionStyleModel",
          "state": {
            "_model_module": "@jupyter-widgets/controls",
            "_model_module_version": "1.5.0",
            "_model_name": "DescriptionStyleModel",
            "_view_count": null,
            "_view_module": "@jupyter-widgets/base",
            "_view_module_version": "1.2.0",
            "_view_name": "StyleView",
            "description_width": ""
          }
        },
        "016435bcf0ea48658a372fffa52da701": {
          "model_module": "@jupyter-widgets/base",
          "model_name": "LayoutModel",
          "state": {
            "_model_module": "@jupyter-widgets/base",
            "_model_module_version": "1.2.0",
            "_model_name": "LayoutModel",
            "_view_count": null,
            "_view_module": "@jupyter-widgets/base",
            "_view_module_version": "1.2.0",
            "_view_name": "LayoutView",
            "align_content": null,
            "align_items": null,
            "align_self": null,
            "border": null,
            "bottom": null,
            "display": null,
            "flex": null,
            "flex_flow": null,
            "grid_area": null,
            "grid_auto_columns": null,
            "grid_auto_flow": null,
            "grid_auto_rows": null,
            "grid_column": null,
            "grid_gap": null,
            "grid_row": null,
            "grid_template_areas": null,
            "grid_template_columns": null,
            "grid_template_rows": null,
            "height": null,
            "justify_content": null,
            "justify_items": null,
            "left": null,
            "margin": null,
            "max_height": null,
            "max_width": null,
            "min_height": null,
            "min_width": null,
            "object_fit": null,
            "object_position": null,
            "order": null,
            "overflow": null,
            "overflow_x": null,
            "overflow_y": null,
            "padding": null,
            "right": null,
            "top": null,
            "visibility": null,
            "width": null
          }
        },
        "3e7f10b655504752b96908e775d8315b": {
          "model_module": "@jupyter-widgets/controls",
          "model_name": "HBoxModel",
          "state": {
            "_dom_classes": [],
            "_model_module": "@jupyter-widgets/controls",
            "_model_module_version": "1.5.0",
            "_model_name": "HBoxModel",
            "_view_count": null,
            "_view_module": "@jupyter-widgets/controls",
            "_view_module_version": "1.5.0",
            "_view_name": "HBoxView",
            "box_style": "",
            "children": [
              "IPY_MODEL_ca807860b6e64817b444f6aaa5b12cb9",
              "IPY_MODEL_99278b5dd7534e8892b2ac27525da09a"
            ],
            "layout": "IPY_MODEL_f4a886b25ac448548f051b39ff7ebe1e"
          }
        },
        "f4a886b25ac448548f051b39ff7ebe1e": {
          "model_module": "@jupyter-widgets/base",
          "model_name": "LayoutModel",
          "state": {
            "_model_module": "@jupyter-widgets/base",
            "_model_module_version": "1.2.0",
            "_model_name": "LayoutModel",
            "_view_count": null,
            "_view_module": "@jupyter-widgets/base",
            "_view_module_version": "1.2.0",
            "_view_name": "LayoutView",
            "align_content": null,
            "align_items": null,
            "align_self": null,
            "border": null,
            "bottom": null,
            "display": "inline-flex",
            "flex": null,
            "flex_flow": "row wrap",
            "grid_area": null,
            "grid_auto_columns": null,
            "grid_auto_flow": null,
            "grid_auto_rows": null,
            "grid_column": null,
            "grid_gap": null,
            "grid_row": null,
            "grid_template_areas": null,
            "grid_template_columns": null,
            "grid_template_rows": null,
            "height": null,
            "justify_content": null,
            "justify_items": null,
            "left": null,
            "margin": null,
            "max_height": null,
            "max_width": null,
            "min_height": null,
            "min_width": null,
            "object_fit": null,
            "object_position": null,
            "order": null,
            "overflow": null,
            "overflow_x": null,
            "overflow_y": null,
            "padding": null,
            "right": null,
            "top": null,
            "visibility": null,
            "width": "100%"
          }
        },
        "ca807860b6e64817b444f6aaa5b12cb9": {
          "model_module": "@jupyter-widgets/controls",
          "model_name": "FloatProgressModel",
          "state": {
            "_dom_classes": [],
            "_model_module": "@jupyter-widgets/controls",
            "_model_module_version": "1.5.0",
            "_model_name": "FloatProgressModel",
            "_view_count": null,
            "_view_module": "@jupyter-widgets/controls",
            "_view_module_version": "1.5.0",
            "_view_name": "ProgressView",
            "bar_style": "info",
            "description": "Epoch 27: 100%",
            "description_tooltip": null,
            "layout": "IPY_MODEL_e7f55f6475c8468885a1bcf3ad8d706c",
            "max": 31,
            "min": 0,
            "orientation": "horizontal",
            "style": "IPY_MODEL_d92844cb9465414eb00749e57c9056c6",
            "value": 31
          }
        },
        "99278b5dd7534e8892b2ac27525da09a": {
          "model_module": "@jupyter-widgets/controls",
          "model_name": "HTMLModel",
          "state": {
            "_dom_classes": [],
            "_model_module": "@jupyter-widgets/controls",
            "_model_module_version": "1.5.0",
            "_model_name": "HTMLModel",
            "_view_count": null,
            "_view_module": "@jupyter-widgets/controls",
            "_view_module_version": "1.5.0",
            "_view_name": "HTMLView",
            "description": "",
            "description_tooltip": null,
            "layout": "IPY_MODEL_1191be466fca42f9938ca74da23780bc",
            "placeholder": "​",
            "style": "IPY_MODEL_12772a14219f482d884282fad65668ed",
            "value": " 31/31 [00:15&lt;00:00,  2.04it/s, loss=41.6, v_num=0, val_loss=76.80, train_loss_step=47.60, train_loss_epoch=47.60]"
          }
        },
        "d92844cb9465414eb00749e57c9056c6": {
          "model_module": "@jupyter-widgets/controls",
          "model_name": "ProgressStyleModel",
          "state": {
            "_model_module": "@jupyter-widgets/controls",
            "_model_module_version": "1.5.0",
            "_model_name": "ProgressStyleModel",
            "_view_count": null,
            "_view_module": "@jupyter-widgets/base",
            "_view_module_version": "1.2.0",
            "_view_name": "StyleView",
            "bar_color": null,
            "description_width": "initial"
          }
        },
        "e7f55f6475c8468885a1bcf3ad8d706c": {
          "model_module": "@jupyter-widgets/base",
          "model_name": "LayoutModel",
          "state": {
            "_model_module": "@jupyter-widgets/base",
            "_model_module_version": "1.2.0",
            "_model_name": "LayoutModel",
            "_view_count": null,
            "_view_module": "@jupyter-widgets/base",
            "_view_module_version": "1.2.0",
            "_view_name": "LayoutView",
            "align_content": null,
            "align_items": null,
            "align_self": null,
            "border": null,
            "bottom": null,
            "display": null,
            "flex": "2",
            "flex_flow": null,
            "grid_area": null,
            "grid_auto_columns": null,
            "grid_auto_flow": null,
            "grid_auto_rows": null,
            "grid_column": null,
            "grid_gap": null,
            "grid_row": null,
            "grid_template_areas": null,
            "grid_template_columns": null,
            "grid_template_rows": null,
            "height": null,
            "justify_content": null,
            "justify_items": null,
            "left": null,
            "margin": null,
            "max_height": null,
            "max_width": null,
            "min_height": null,
            "min_width": null,
            "object_fit": null,
            "object_position": null,
            "order": null,
            "overflow": null,
            "overflow_x": null,
            "overflow_y": null,
            "padding": null,
            "right": null,
            "top": null,
            "visibility": null,
            "width": null
          }
        },
        "12772a14219f482d884282fad65668ed": {
          "model_module": "@jupyter-widgets/controls",
          "model_name": "DescriptionStyleModel",
          "state": {
            "_model_module": "@jupyter-widgets/controls",
            "_model_module_version": "1.5.0",
            "_model_name": "DescriptionStyleModel",
            "_view_count": null,
            "_view_module": "@jupyter-widgets/base",
            "_view_module_version": "1.2.0",
            "_view_name": "StyleView",
            "description_width": ""
          }
        },
        "1191be466fca42f9938ca74da23780bc": {
          "model_module": "@jupyter-widgets/base",
          "model_name": "LayoutModel",
          "state": {
            "_model_module": "@jupyter-widgets/base",
            "_model_module_version": "1.2.0",
            "_model_name": "LayoutModel",
            "_view_count": null,
            "_view_module": "@jupyter-widgets/base",
            "_view_module_version": "1.2.0",
            "_view_name": "LayoutView",
            "align_content": null,
            "align_items": null,
            "align_self": null,
            "border": null,
            "bottom": null,
            "display": null,
            "flex": null,
            "flex_flow": null,
            "grid_area": null,
            "grid_auto_columns": null,
            "grid_auto_flow": null,
            "grid_auto_rows": null,
            "grid_column": null,
            "grid_gap": null,
            "grid_row": null,
            "grid_template_areas": null,
            "grid_template_columns": null,
            "grid_template_rows": null,
            "height": null,
            "justify_content": null,
            "justify_items": null,
            "left": null,
            "margin": null,
            "max_height": null,
            "max_width": null,
            "min_height": null,
            "min_width": null,
            "object_fit": null,
            "object_position": null,
            "order": null,
            "overflow": null,
            "overflow_x": null,
            "overflow_y": null,
            "padding": null,
            "right": null,
            "top": null,
            "visibility": null,
            "width": null
          }
        },
        "a1ccfcd5710540e8802f515794d295be": {
          "model_module": "@jupyter-widgets/controls",
          "model_name": "HBoxModel",
          "state": {
            "_dom_classes": [],
            "_model_module": "@jupyter-widgets/controls",
            "_model_module_version": "1.5.0",
            "_model_name": "HBoxModel",
            "_view_count": null,
            "_view_module": "@jupyter-widgets/controls",
            "_view_module_version": "1.5.0",
            "_view_name": "HBoxView",
            "box_style": "",
            "children": [
              "IPY_MODEL_1044bfc68e5847e7aebfb559ad50f4be",
              "IPY_MODEL_2818ae96f9f245e3aaa6d31d206a1cc9"
            ],
            "layout": "IPY_MODEL_e5c9058fc22f47fd956d64647b357eb9"
          }
        },
        "e5c9058fc22f47fd956d64647b357eb9": {
          "model_module": "@jupyter-widgets/base",
          "model_name": "LayoutModel",
          "state": {
            "_model_module": "@jupyter-widgets/base",
            "_model_module_version": "1.2.0",
            "_model_name": "LayoutModel",
            "_view_count": null,
            "_view_module": "@jupyter-widgets/base",
            "_view_module_version": "1.2.0",
            "_view_name": "LayoutView",
            "align_content": null,
            "align_items": null,
            "align_self": null,
            "border": null,
            "bottom": null,
            "display": "inline-flex",
            "flex": null,
            "flex_flow": "row wrap",
            "grid_area": null,
            "grid_auto_columns": null,
            "grid_auto_flow": null,
            "grid_auto_rows": null,
            "grid_column": null,
            "grid_gap": null,
            "grid_row": null,
            "grid_template_areas": null,
            "grid_template_columns": null,
            "grid_template_rows": null,
            "height": null,
            "justify_content": null,
            "justify_items": null,
            "left": null,
            "margin": null,
            "max_height": null,
            "max_width": null,
            "min_height": null,
            "min_width": null,
            "object_fit": null,
            "object_position": null,
            "order": null,
            "overflow": null,
            "overflow_x": null,
            "overflow_y": null,
            "padding": null,
            "right": null,
            "top": null,
            "visibility": null,
            "width": "100%"
          }
        },
        "1044bfc68e5847e7aebfb559ad50f4be": {
          "model_module": "@jupyter-widgets/controls",
          "model_name": "FloatProgressModel",
          "state": {
            "_dom_classes": [],
            "_model_module": "@jupyter-widgets/controls",
            "_model_module_version": "1.5.0",
            "_model_name": "FloatProgressModel",
            "_view_count": null,
            "_view_module": "@jupyter-widgets/controls",
            "_view_module_version": "1.5.0",
            "_view_name": "ProgressView",
            "bar_style": "info",
            "description": "Validating: 100%",
            "description_tooltip": null,
            "layout": "IPY_MODEL_41d28fc47e6b4918b1661c92ffcd3e73",
            "max": 1,
            "min": 0,
            "orientation": "horizontal",
            "style": "IPY_MODEL_dbe9ede021d4458cbf6ba6788dd5d537",
            "value": 1
          }
        },
        "2818ae96f9f245e3aaa6d31d206a1cc9": {
          "model_module": "@jupyter-widgets/controls",
          "model_name": "HTMLModel",
          "state": {
            "_dom_classes": [],
            "_model_module": "@jupyter-widgets/controls",
            "_model_module_version": "1.5.0",
            "_model_name": "HTMLModel",
            "_view_count": null,
            "_view_module": "@jupyter-widgets/controls",
            "_view_module_version": "1.5.0",
            "_view_name": "HTMLView",
            "description": "",
            "description_tooltip": null,
            "layout": "IPY_MODEL_8752d16e940e4364b4c43d4a5b8afbe3",
            "placeholder": "​",
            "style": "IPY_MODEL_1fa890a414f247669fdccbd73a0574c4",
            "value": " 1/1 [00:01&lt;00:00,  1.29it/s]"
          }
        },
        "dbe9ede021d4458cbf6ba6788dd5d537": {
          "model_module": "@jupyter-widgets/controls",
          "model_name": "ProgressStyleModel",
          "state": {
            "_model_module": "@jupyter-widgets/controls",
            "_model_module_version": "1.5.0",
            "_model_name": "ProgressStyleModel",
            "_view_count": null,
            "_view_module": "@jupyter-widgets/base",
            "_view_module_version": "1.2.0",
            "_view_name": "StyleView",
            "bar_color": null,
            "description_width": "initial"
          }
        },
        "41d28fc47e6b4918b1661c92ffcd3e73": {
          "model_module": "@jupyter-widgets/base",
          "model_name": "LayoutModel",
          "state": {
            "_model_module": "@jupyter-widgets/base",
            "_model_module_version": "1.2.0",
            "_model_name": "LayoutModel",
            "_view_count": null,
            "_view_module": "@jupyter-widgets/base",
            "_view_module_version": "1.2.0",
            "_view_name": "LayoutView",
            "align_content": null,
            "align_items": null,
            "align_self": null,
            "border": null,
            "bottom": null,
            "display": null,
            "flex": "2",
            "flex_flow": null,
            "grid_area": null,
            "grid_auto_columns": null,
            "grid_auto_flow": null,
            "grid_auto_rows": null,
            "grid_column": null,
            "grid_gap": null,
            "grid_row": null,
            "grid_template_areas": null,
            "grid_template_columns": null,
            "grid_template_rows": null,
            "height": null,
            "justify_content": null,
            "justify_items": null,
            "left": null,
            "margin": null,
            "max_height": null,
            "max_width": null,
            "min_height": null,
            "min_width": null,
            "object_fit": null,
            "object_position": null,
            "order": null,
            "overflow": null,
            "overflow_x": null,
            "overflow_y": null,
            "padding": null,
            "right": null,
            "top": null,
            "visibility": null,
            "width": null
          }
        },
        "1fa890a414f247669fdccbd73a0574c4": {
          "model_module": "@jupyter-widgets/controls",
          "model_name": "DescriptionStyleModel",
          "state": {
            "_model_module": "@jupyter-widgets/controls",
            "_model_module_version": "1.5.0",
            "_model_name": "DescriptionStyleModel",
            "_view_count": null,
            "_view_module": "@jupyter-widgets/base",
            "_view_module_version": "1.2.0",
            "_view_name": "StyleView",
            "description_width": ""
          }
        },
        "8752d16e940e4364b4c43d4a5b8afbe3": {
          "model_module": "@jupyter-widgets/base",
          "model_name": "LayoutModel",
          "state": {
            "_model_module": "@jupyter-widgets/base",
            "_model_module_version": "1.2.0",
            "_model_name": "LayoutModel",
            "_view_count": null,
            "_view_module": "@jupyter-widgets/base",
            "_view_module_version": "1.2.0",
            "_view_name": "LayoutView",
            "align_content": null,
            "align_items": null,
            "align_self": null,
            "border": null,
            "bottom": null,
            "display": null,
            "flex": null,
            "flex_flow": null,
            "grid_area": null,
            "grid_auto_columns": null,
            "grid_auto_flow": null,
            "grid_auto_rows": null,
            "grid_column": null,
            "grid_gap": null,
            "grid_row": null,
            "grid_template_areas": null,
            "grid_template_columns": null,
            "grid_template_rows": null,
            "height": null,
            "justify_content": null,
            "justify_items": null,
            "left": null,
            "margin": null,
            "max_height": null,
            "max_width": null,
            "min_height": null,
            "min_width": null,
            "object_fit": null,
            "object_position": null,
            "order": null,
            "overflow": null,
            "overflow_x": null,
            "overflow_y": null,
            "padding": null,
            "right": null,
            "top": null,
            "visibility": null,
            "width": null
          }
        }
      }
    }
  },
  "cells": [
    {
      "cell_type": "markdown",
      "metadata": {
        "id": "YweEWoCM0h0Y"
      },
      "source": [
        "# Imports"
      ]
    },
    {
      "cell_type": "code",
      "metadata": {
        "id": "3niXTKVhsrQz"
      },
      "source": [
        "%%capture\n",
        "! pip install catboost\n",
        "! git clone --recursive https://github.com/Microsoft/LightGBM\n",
        "! cd LightGBM && rm -rf build && mkdir build && cd build && cmake -DUSE_GPU=1 ../../LightGBM && make -j4 && cd ../python-package && python3 setup.py install --precompile --gpu;"
      ],
      "execution_count": null,
      "outputs": []
    },
    {
      "cell_type": "code",
      "metadata": {
        "id": "qNw33GIjaCSf"
      },
      "source": [
        "import pandas as pd\n",
        "import numpy as np\n",
        "import torch\n",
        "import time\n",
        "import tensorflow as tf\n",
        "import lightgbm as lgb\n",
        "from datetime import datetime\n",
        "#from catboost import CatBoostRegressor\n",
        "from sklearn.metrics import mean_squared_error\n",
        "from sklearn.linear_model import LinearRegression\n",
        "\n",
        "import xgboost as xgb\n",
        "from xgboost import plot_importance, plot_tree\n",
        "from sklearn.model_selection import train_test_split\n",
        "from sklearn.model_selection import GridSearchCV\n",
        "from sklearn.model_selection import *\n",
        "import time \n",
        "\n",
        "import statsmodels.api as sm\n",
        "from statsmodels.tsa.api import VAR"
      ],
      "execution_count": null,
      "outputs": []
    },
    {
      "cell_type": "code",
      "metadata": {
        "id": "Se6OpaEaaCrE"
      },
      "source": [
        "train_df = pd.read_csv(\"training.csv\")\n",
        "test_df = pd.read_csv(\"testing.csv\")"
      ],
      "execution_count": null,
      "outputs": []
    },
    {
      "cell_type": "code",
      "metadata": {
        "colab": {
          "base_uri": "https://localhost:8080/",
          "height": 312
        },
        "id": "t7wxllWDaU3i",
        "outputId": "611ed662-fe75-410b-aa36-78a9d51ccd52"
      },
      "source": [
        "train_df.head(4)"
      ],
      "execution_count": null,
      "outputs": [
        {
          "output_type": "execute_result",
          "data": {
            "text/html": [
              "<div>\n",
              "<style scoped>\n",
              "    .dataframe tbody tr th:only-of-type {\n",
              "        vertical-align: middle;\n",
              "    }\n",
              "\n",
              "    .dataframe tbody tr th {\n",
              "        vertical-align: top;\n",
              "    }\n",
              "\n",
              "    .dataframe thead th {\n",
              "        text-align: right;\n",
              "    }\n",
              "</style>\n",
              "<table border=\"1\" class=\"dataframe\">\n",
              "  <thead>\n",
              "    <tr style=\"text-align: right;\">\n",
              "      <th></th>\n",
              "      <th>id</th>\n",
              "      <th>time</th>\n",
              "      <th>name</th>\n",
              "      <th>Open</th>\n",
              "      <th>High</th>\n",
              "      <th>Low</th>\n",
              "      <th>Close</th>\n",
              "      <th>Volume</th>\n",
              "      <th>Quote asset volume</th>\n",
              "      <th>Number of trades</th>\n",
              "      <th>Taker buy base asset volume</th>\n",
              "      <th>Taker buy quote asset volume</th>\n",
              "      <th>target</th>\n",
              "    </tr>\n",
              "  </thead>\n",
              "  <tbody>\n",
              "    <tr>\n",
              "      <th>0</th>\n",
              "      <td>1</td>\n",
              "      <td>2018-05-04T08:12:00Z</td>\n",
              "      <td>BTCUSDT</td>\n",
              "      <td>9727.90</td>\n",
              "      <td>9750.00</td>\n",
              "      <td>9727.90</td>\n",
              "      <td>9745.56</td>\n",
              "      <td>52.08668</td>\n",
              "      <td>507447.897326</td>\n",
              "      <td>454</td>\n",
              "      <td>39.258336</td>\n",
              "      <td>382501.194936</td>\n",
              "      <td>0.005881</td>\n",
              "    </tr>\n",
              "    <tr>\n",
              "      <th>1</th>\n",
              "      <td>2</td>\n",
              "      <td>2018-05-04T08:12:00Z</td>\n",
              "      <td>ETHUSDT</td>\n",
              "      <td>789.08</td>\n",
              "      <td>791.00</td>\n",
              "      <td>789.08</td>\n",
              "      <td>790.93</td>\n",
              "      <td>407.54477</td>\n",
              "      <td>322084.533567</td>\n",
              "      <td>379</td>\n",
              "      <td>303.069270</td>\n",
              "      <td>239530.381621</td>\n",
              "      <td>0.004171</td>\n",
              "    </tr>\n",
              "    <tr>\n",
              "      <th>2</th>\n",
              "      <td>3</td>\n",
              "      <td>2018-05-04T08:12:00Z</td>\n",
              "      <td>LTCUSDT</td>\n",
              "      <td>160.70</td>\n",
              "      <td>161.36</td>\n",
              "      <td>160.52</td>\n",
              "      <td>161.06</td>\n",
              "      <td>208.47051</td>\n",
              "      <td>33554.990241</td>\n",
              "      <td>76</td>\n",
              "      <td>193.770360</td>\n",
              "      <td>31190.987887</td>\n",
              "      <td>0.010191</td>\n",
              "    </tr>\n",
              "    <tr>\n",
              "      <th>3</th>\n",
              "      <td>4</td>\n",
              "      <td>2018-05-04T08:12:00Z</td>\n",
              "      <td>XRPUSDT</td>\n",
              "      <td>0.50</td>\n",
              "      <td>0.50</td>\n",
              "      <td>0.50</td>\n",
              "      <td>0.50</td>\n",
              "      <td>109.51000</td>\n",
              "      <td>54.755000</td>\n",
              "      <td>1</td>\n",
              "      <td>0.000000</td>\n",
              "      <td>0.000000</td>\n",
              "      <td>0.252573</td>\n",
              "    </tr>\n",
              "  </tbody>\n",
              "</table>\n",
              "</div>"
            ],
            "text/plain": [
              "   id                  time  ... Taker buy quote asset volume    target\n",
              "0   1  2018-05-04T08:12:00Z  ...                382501.194936  0.005881\n",
              "1   2  2018-05-04T08:12:00Z  ...                239530.381621  0.004171\n",
              "2   3  2018-05-04T08:12:00Z  ...                 31190.987887  0.010191\n",
              "3   4  2018-05-04T08:12:00Z  ...                     0.000000  0.252573\n",
              "\n",
              "[4 rows x 13 columns]"
            ]
          },
          "metadata": {
            "tags": []
          },
          "execution_count": 76
        }
      ]
    },
    {
      "cell_type": "code",
      "metadata": {
        "colab": {
          "base_uri": "https://localhost:8080/",
          "height": 295
        },
        "id": "P4mAST2ccF2a",
        "outputId": "45387f58-8ca5-4dcc-c841-8e344f69d16e"
      },
      "source": [
        "test_df.head(4)"
      ],
      "execution_count": null,
      "outputs": [
        {
          "output_type": "execute_result",
          "data": {
            "text/html": [
              "<div>\n",
              "<style scoped>\n",
              "    .dataframe tbody tr th:only-of-type {\n",
              "        vertical-align: middle;\n",
              "    }\n",
              "\n",
              "    .dataframe tbody tr th {\n",
              "        vertical-align: top;\n",
              "    }\n",
              "\n",
              "    .dataframe thead th {\n",
              "        text-align: right;\n",
              "    }\n",
              "</style>\n",
              "<table border=\"1\" class=\"dataframe\">\n",
              "  <thead>\n",
              "    <tr style=\"text-align: right;\">\n",
              "      <th></th>\n",
              "      <th>id</th>\n",
              "      <th>time</th>\n",
              "      <th>name</th>\n",
              "      <th>Open</th>\n",
              "      <th>High</th>\n",
              "      <th>Low</th>\n",
              "      <th>Close</th>\n",
              "      <th>Volume</th>\n",
              "      <th>Quote asset volume</th>\n",
              "      <th>Number of trades</th>\n",
              "      <th>Taker buy base asset volume</th>\n",
              "      <th>Taker buy quote asset volume</th>\n",
              "    </tr>\n",
              "  </thead>\n",
              "  <tbody>\n",
              "    <tr>\n",
              "      <th>0</th>\n",
              "      <td>4892866</td>\n",
              "      <td>2020-09-02T21:10:00Z</td>\n",
              "      <td>BTCUSDT</td>\n",
              "      <td>11352.67000</td>\n",
              "      <td>11353.73000</td>\n",
              "      <td>11351.93000</td>\n",
              "      <td>11353.11000</td>\n",
              "      <td>13.26513</td>\n",
              "      <td>150597.999749</td>\n",
              "      <td>271</td>\n",
              "      <td>7.588199</td>\n",
              "      <td>86148.782015</td>\n",
              "    </tr>\n",
              "    <tr>\n",
              "      <th>1</th>\n",
              "      <td>4892867</td>\n",
              "      <td>2020-09-02T21:10:00Z</td>\n",
              "      <td>ETHUSDT</td>\n",
              "      <td>435.35000</td>\n",
              "      <td>435.50000</td>\n",
              "      <td>435.33000</td>\n",
              "      <td>435.48000</td>\n",
              "      <td>190.80991</td>\n",
              "      <td>83072.749754</td>\n",
              "      <td>92</td>\n",
              "      <td>117.808540</td>\n",
              "      <td>51290.913562</td>\n",
              "    </tr>\n",
              "    <tr>\n",
              "      <th>2</th>\n",
              "      <td>4892868</td>\n",
              "      <td>2020-09-02T21:10:00Z</td>\n",
              "      <td>LTCUSDT</td>\n",
              "      <td>58.04000</td>\n",
              "      <td>58.05000</td>\n",
              "      <td>58.02000</td>\n",
              "      <td>58.04000</td>\n",
              "      <td>147.65286</td>\n",
              "      <td>8568.443700</td>\n",
              "      <td>38</td>\n",
              "      <td>58.481850</td>\n",
              "      <td>3394.302667</td>\n",
              "    </tr>\n",
              "    <tr>\n",
              "      <th>3</th>\n",
              "      <td>4892869</td>\n",
              "      <td>2020-09-02T21:10:00Z</td>\n",
              "      <td>XRPUSDT</td>\n",
              "      <td>0.27583</td>\n",
              "      <td>0.27584</td>\n",
              "      <td>0.27582</td>\n",
              "      <td>0.27582</td>\n",
              "      <td>12764.50000</td>\n",
              "      <td>3520.818389</td>\n",
              "      <td>14</td>\n",
              "      <td>10348.700000</td>\n",
              "      <td>2854.446386</td>\n",
              "    </tr>\n",
              "  </tbody>\n",
              "</table>\n",
              "</div>"
            ],
            "text/plain": [
              "        id  ... Taker buy quote asset volume\n",
              "0  4892866  ...                 86148.782015\n",
              "1  4892867  ...                 51290.913562\n",
              "2  4892868  ...                  3394.302667\n",
              "3  4892869  ...                  2854.446386\n",
              "\n",
              "[4 rows x 12 columns]"
            ]
          },
          "metadata": {
            "tags": []
          },
          "execution_count": 77
        }
      ]
    },
    {
      "cell_type": "markdown",
      "metadata": {
        "id": "3OFOP_aYi9k_"
      },
      "source": [
        "# EDA"
      ]
    },
    {
      "cell_type": "markdown",
      "metadata": {
        "id": "f4t0ro-wt-7f"
      },
      "source": [
        "## Clean data"
      ]
    },
    {
      "cell_type": "markdown",
      "metadata": {
        "id": "6WV4r0SngaM0"
      },
      "source": [
        "Clean up data, since there are multiple rows with the same column values (time, open, high, etc.)"
      ]
    },
    {
      "cell_type": "code",
      "metadata": {
        "id": "LSThqoqrt-7j",
        "outputId": "cf2d2906-889b-4d48-974f-94f5dcdbf114"
      },
      "source": [
        "#Find unclean data\n",
        "df = train_df\n",
        "df_grouped = train_df.groupby('time').count()['name']\n",
        "df_grouped[df_grouped != 4]"
      ],
      "execution_count": null,
      "outputs": [
        {
          "output_type": "execute_result",
          "data": {
            "text/plain": [
              "time\n",
              "2018-05-04T19:21:00Z        5\n",
              "2018-06-26T14:01:00Z        8\n",
              "2018-06-27T23:21:00Z        8\n",
              "2018-07-04T00:22:25.552Z    1\n",
              "2018-07-04T00:22:25.563Z    1\n",
              "2018-07-04T00:22:27.435Z    1\n",
              "2018-07-04T00:22:28.668Z    1\n",
              "2018-07-04T22:01:00Z        8\n",
              "2018-10-19T20:41:00Z        8\n",
              "2018-11-14T13:21:00Z        8\n",
              "2019-03-12T14:41:00Z        8\n",
              "2019-05-16T04:41:00Z        8\n",
              "2019-06-07T21:13:13.525Z    1\n",
              "2019-06-07T21:13:13.541Z    1\n",
              "2019-06-07T21:13:15.909Z    1\n",
              "2019-06-07T21:13:17.332Z    1\n",
              "2019-06-08T02:41:00Z        8\n",
              "2019-08-15T20:41:00Z        8\n",
              "2019-11-13T10:41:00Z        8\n",
              "2019-11-25T06:01:00Z        8\n",
              "2020-02-09T15:21:00Z        8\n",
              "2020-02-19T11:35:32.287Z    1\n",
              "2020-02-19T11:35:32.299Z    1\n",
              "2020-02-19T11:35:33.983Z    1\n",
              "2020-02-19T11:35:35.063Z    1\n",
              "2020-02-20T01:21:00Z        8\n",
              "2020-03-04T09:21:46.695Z    1\n",
              "2020-03-04T09:21:46.701Z    1\n",
              "2020-03-04T09:21:47.642Z    1\n",
              "2020-03-04T09:21:48.204Z    1\n",
              "2020-03-04T22:41:00Z        8\n",
              "2020-04-25T08:01:00Z        8\n",
              "2020-06-28T22:01:00Z        8\n",
              "Name: name, dtype: int64"
            ]
          },
          "metadata": {
            "tags": []
          },
          "execution_count": 553
        }
      ]
    },
    {
      "cell_type": "code",
      "metadata": {
        "id": "74Z_i9Fnt-7k",
        "scrolled": true,
        "outputId": "945f273e-aa7c-4b22-9d82-ae3f6efc164c"
      },
      "source": [
        "#Have a look on unclean data\n",
        "df[df['time'] == '2018-05-04T19:21:00Z']"
      ],
      "execution_count": null,
      "outputs": [
        {
          "output_type": "execute_result",
          "data": {
            "text/html": [
              "<div>\n",
              "<style scoped>\n",
              "    .dataframe tbody tr th:only-of-type {\n",
              "        vertical-align: middle;\n",
              "    }\n",
              "\n",
              "    .dataframe tbody tr th {\n",
              "        vertical-align: top;\n",
              "    }\n",
              "\n",
              "    .dataframe thead th {\n",
              "        text-align: right;\n",
              "    }\n",
              "</style>\n",
              "<table border=\"1\" class=\"dataframe\">\n",
              "  <thead>\n",
              "    <tr style=\"text-align: right;\">\n",
              "      <th></th>\n",
              "      <th>id</th>\n",
              "      <th>time</th>\n",
              "      <th>name</th>\n",
              "      <th>Open</th>\n",
              "      <th>High</th>\n",
              "      <th>Low</th>\n",
              "      <th>Close</th>\n",
              "      <th>Volume</th>\n",
              "      <th>Quote asset volume</th>\n",
              "      <th>Number of trades</th>\n",
              "      <th>Taker buy base asset volume</th>\n",
              "      <th>Taker buy quote asset volume</th>\n",
              "      <th>target</th>\n",
              "    </tr>\n",
              "  </thead>\n",
              "  <tbody>\n",
              "    <tr>\n",
              "      <th>2676</th>\n",
              "      <td>2677</td>\n",
              "      <td>2018-05-04T19:21:00Z</td>\n",
              "      <td>BTCUSDT</td>\n",
              "      <td>9655.000</td>\n",
              "      <td>9660.00000</td>\n",
              "      <td>9653.00000</td>\n",
              "      <td>9653.04000</td>\n",
              "      <td>12.470589</td>\n",
              "      <td>120392.892343</td>\n",
              "      <td>59</td>\n",
              "      <td>3.842205</td>\n",
              "      <td>37098.825939</td>\n",
              "      <td>0.001237</td>\n",
              "    </tr>\n",
              "    <tr>\n",
              "      <th>2677</th>\n",
              "      <td>2678</td>\n",
              "      <td>2018-05-04T19:21:00Z</td>\n",
              "      <td>ETHUSDT</td>\n",
              "      <td>775.040</td>\n",
              "      <td>775.80000</td>\n",
              "      <td>775.04000</td>\n",
              "      <td>775.77000</td>\n",
              "      <td>17.786200</td>\n",
              "      <td>13794.861801</td>\n",
              "      <td>66</td>\n",
              "      <td>13.415460</td>\n",
              "      <td>10406.796576</td>\n",
              "      <td>0.002738</td>\n",
              "    </tr>\n",
              "    <tr>\n",
              "      <th>2678</th>\n",
              "      <td>2679</td>\n",
              "      <td>2018-05-04T19:21:00Z</td>\n",
              "      <td>LTCUSDT</td>\n",
              "      <td>163.430</td>\n",
              "      <td>163.44000</td>\n",
              "      <td>163.20000</td>\n",
              "      <td>163.20000</td>\n",
              "      <td>15.747340</td>\n",
              "      <td>2572.415100</td>\n",
              "      <td>9</td>\n",
              "      <td>1.516970</td>\n",
              "      <td>247.918728</td>\n",
              "      <td>-0.000670</td>\n",
              "    </tr>\n",
              "    <tr>\n",
              "      <th>2679</th>\n",
              "      <td>2680</td>\n",
              "      <td>2018-05-04T19:21:00Z</td>\n",
              "      <td>XRPUSDT</td>\n",
              "      <td>0.886</td>\n",
              "      <td>0.88768</td>\n",
              "      <td>0.88511</td>\n",
              "      <td>0.88511</td>\n",
              "      <td>49742.440000</td>\n",
              "      <td>44070.016723</td>\n",
              "      <td>25</td>\n",
              "      <td>25.890000</td>\n",
              "      <td>22.982033</td>\n",
              "      <td>0.001712</td>\n",
              "    </tr>\n",
              "    <tr>\n",
              "      <th>2680</th>\n",
              "      <td>2681</td>\n",
              "      <td>2018-05-04T19:21:00Z</td>\n",
              "      <td>XRPUSDT</td>\n",
              "      <td>0.886</td>\n",
              "      <td>0.88768</td>\n",
              "      <td>0.88511</td>\n",
              "      <td>0.88511</td>\n",
              "      <td>49742.440000</td>\n",
              "      <td>44070.016723</td>\n",
              "      <td>25</td>\n",
              "      <td>25.890000</td>\n",
              "      <td>22.982033</td>\n",
              "      <td>0.002591</td>\n",
              "    </tr>\n",
              "  </tbody>\n",
              "</table>\n",
              "</div>"
            ],
            "text/plain": [
              "        id                  time     name      Open        High         Low  \\\n",
              "2676  2677  2018-05-04T19:21:00Z  BTCUSDT  9655.000  9660.00000  9653.00000   \n",
              "2677  2678  2018-05-04T19:21:00Z  ETHUSDT   775.040   775.80000   775.04000   \n",
              "2678  2679  2018-05-04T19:21:00Z  LTCUSDT   163.430   163.44000   163.20000   \n",
              "2679  2680  2018-05-04T19:21:00Z  XRPUSDT     0.886     0.88768     0.88511   \n",
              "2680  2681  2018-05-04T19:21:00Z  XRPUSDT     0.886     0.88768     0.88511   \n",
              "\n",
              "           Close        Volume  Quote asset volume  Number of trades  \\\n",
              "2676  9653.04000     12.470589       120392.892343                59   \n",
              "2677   775.77000     17.786200        13794.861801                66   \n",
              "2678   163.20000     15.747340         2572.415100                 9   \n",
              "2679     0.88511  49742.440000        44070.016723                25   \n",
              "2680     0.88511  49742.440000        44070.016723                25   \n",
              "\n",
              "      Taker buy base asset volume  Taker buy quote asset volume    target  \n",
              "2676                     3.842205                  37098.825939  0.001237  \n",
              "2677                    13.415460                  10406.796576  0.002738  \n",
              "2678                     1.516970                    247.918728 -0.000670  \n",
              "2679                    25.890000                     22.982033  0.001712  \n",
              "2680                    25.890000                     22.982033  0.002591  "
            ]
          },
          "metadata": {
            "tags": []
          },
          "execution_count": 554
        }
      ]
    },
    {
      "cell_type": "code",
      "metadata": {
        "colab": {
          "base_uri": "https://localhost:8080/"
        },
        "id": "TNp1Dty-t-7k",
        "outputId": "02fd0842-f536-4d08-8978-5231f2f71094"
      },
      "source": [
        "train_df.drop(train_df[(train_df.time.str.len() != 20)].index, inplace=True)\n",
        "train_df.drop_duplicates(subset=['time', 'name', 'High', 'Low'], inplace=True)\n",
        "train_df.reset_index(drop=True, inplace=True)\n",
        "\n",
        "df_grouped = train_df.groupby('time').count()['name']\n",
        "print(df_grouped[df_grouped != 4])\n",
        "del df_grouped"
      ],
      "execution_count": null,
      "outputs": [
        {
          "output_type": "stream",
          "text": [
            "Series([], Name: name, dtype: int64)\n"
          ],
          "name": "stdout"
        }
      ]
    },
    {
      "cell_type": "markdown",
      "metadata": {
        "id": "xhEIZ5H1uDvd"
      },
      "source": [
        "## Correlation"
      ]
    },
    {
      "cell_type": "code",
      "metadata": {
        "id": "P2GofGmVuDvd",
        "scrolled": true,
        "outputId": "0ed8ba63-5fae-4724-d2ef-c70a70ea27e8"
      },
      "source": [
        "plt.figure(figsize=(12, 9))\n",
        "sn.heatmap(df.corr(), annot=True)\n",
        "plt.show()"
      ],
      "execution_count": null,
      "outputs": [
        {
          "output_type": "display_data",
          "data": {
            "image/png": "[encoded data removed]",
            "text/plain": [
              "<Figure size 864x648 with 2 Axes>"
            ]
          },
          "metadata": {
            "tags": [],
            "needs_background": "light"
          }
        }
      ]
    },
    {
      "cell_type": "code",
      "metadata": {
        "id": "EGqQaKw-uDvd",
        "scrolled": true
      },
      "source": [
        "#Seperate each crypto\n",
        "df_BTC = df.loc[df.name == 'BTCUSDT'].copy()\n",
        "df_ETH = df.loc[df.name == 'ETHUSDT'].copy()\n",
        "df_LTC = df.loc[df.name == 'LTCUSDT'].copy()\n",
        "df_XRP = df.loc[df.name == 'XRPUSDT'].copy()"
      ],
      "execution_count": null,
      "outputs": []
    },
    {
      "cell_type": "code",
      "metadata": {
        "id": "6kYxzn59uDve",
        "outputId": "fff91a44-3233-4942-9a75-ba9fb89bd2f3"
      },
      "source": [
        "plt.figure(figsize=(12, 9))\n",
        "sn.heatmap(df_BTC.corr(), annot=True)\n",
        "plt.show()"
      ],
      "execution_count": null,
      "outputs": [
        {
          "output_type": "display_data",
          "data": {
            "image/png": "[encoded data removed]",
            "text/plain": [
              "<Figure size 864x648 with 2 Axes>"
            ]
          },
          "metadata": {
            "tags": [],
            "needs_background": "light"
          }
        }
      ]
    },
    {
      "cell_type": "code",
      "metadata": {
        "id": "vb_cKpCRuDve",
        "scrolled": true,
        "outputId": "e37713b0-9379-47e8-8b4b-adcd6bf469be"
      },
      "source": [
        "#Show the trend of opening\n",
        "plt.plot(df_BTC.index, df_BTC.Open)"
      ],
      "execution_count": null,
      "outputs": [
        {
          "output_type": "execute_result",
          "data": {
            "text/plain": [
              "[<matplotlib.lines.Line2D at 0x1ff5e1847c0>]"
            ]
          },
          "metadata": {
            "tags": []
          },
          "execution_count": 11
        },
        {
          "output_type": "display_data",
          "data": {
            "image/png": "[encoded data removed]",
            "text/plain": [
              "<Figure size 432x288 with 1 Axes>"
            ]
          },
          "metadata": {
            "tags": [],
            "needs_background": "light"
          }
        }
      ]
    },
    {
      "cell_type": "code",
      "metadata": {
        "id": "zHh5wVAXuDve",
        "outputId": "4df7a3b4-8726-4b1b-dd1d-aed61a93c3d4"
      },
      "source": [
        "plt.plot(df_ETH.index , df_ETH.Open)"
      ],
      "execution_count": null,
      "outputs": [
        {
          "output_type": "execute_result",
          "data": {
            "text/plain": [
              "[<matplotlib.lines.Line2D at 0x1ff5e1dafd0>]"
            ]
          },
          "metadata": {
            "tags": []
          },
          "execution_count": 12
        },
        {
          "output_type": "display_data",
          "data": {
            "image/png": "[encoded data removed]",
            "text/plain": [
              "<Figure size 432x288 with 1 Axes>"
            ]
          },
          "metadata": {
            "tags": [],
            "needs_background": "light"
          }
        }
      ]
    },
    {
      "cell_type": "code",
      "metadata": {
        "id": "aHpWAAsyuDve",
        "outputId": "9fe7022b-bb52-430f-cfe9-869d4d240a3f"
      },
      "source": [
        "plt.plot(df_LTC.index , df_LTC.Open)"
      ],
      "execution_count": null,
      "outputs": [
        {
          "output_type": "execute_result",
          "data": {
            "text/plain": [
              "[<matplotlib.lines.Line2D at 0x1ff5e23a460>]"
            ]
          },
          "metadata": {
            "tags": []
          },
          "execution_count": 13
        },
        {
          "output_type": "display_data",
          "data": {
            "image/png": "[encoded data removed]",
            "text/plain": [
              "<Figure size 432x288 with 1 Axes>"
            ]
          },
          "metadata": {
            "tags": [],
            "needs_background": "light"
          }
        }
      ]
    },
    {
      "cell_type": "code",
      "metadata": {
        "id": "4fKs8jofuDvf",
        "scrolled": true,
        "outputId": "13601674-c792-4c2f-b70a-44149565aed4"
      },
      "source": [
        "plt.plot(df_XRP.index , df_XRP.Open)"
      ],
      "execution_count": null,
      "outputs": [
        {
          "output_type": "execute_result",
          "data": {
            "text/plain": [
              "[<matplotlib.lines.Line2D at 0x1ff6042de50>]"
            ]
          },
          "metadata": {
            "tags": []
          },
          "execution_count": 14
        },
        {
          "output_type": "display_data",
          "data": {
            "image/png": "[encoded data removed]",
            "text/plain": [
              "<Figure size 432x288 with 1 Axes>"
            ]
          },
          "metadata": {
            "tags": [],
            "needs_background": "light"
          }
        }
      ]
    },
    {
      "cell_type": "code",
      "metadata": {
        "id": "dsZ6VEDeuDvf"
      },
      "source": [
        "# Correlation\n",
        "df_corr = pd.DataFrame()\n",
        "df_corr['BTC'] = df_BTC.reset_index()['Open']\n",
        "df_corr['ETH'] = df_ETH.reset_index()['Open']\n",
        "df_corr['LTC'] = df_LTC.reset_index()['Open']\n",
        "df_corr['XRP'] = df_XRP.reset_index()['Open']"
      ],
      "execution_count": null,
      "outputs": []
    },
    {
      "cell_type": "code",
      "metadata": {
        "id": "x044w22QuDvf",
        "scrolled": true,
        "outputId": "fa265066-8236-4aae-f954-a1d6a1ec5956"
      },
      "source": [
        "sn.heatmap(df_corr.corr(), annot=True)\n",
        "plt.show()"
      ],
      "execution_count": null,
      "outputs": [
        {
          "output_type": "display_data",
          "data": {
            "image/png": "[encoded data removed]",
            "text/plain": [
              "<Figure size 432x288 with 2 Axes>"
            ]
          },
          "metadata": {
            "tags": [],
            "needs_background": "light"
          }
        }
      ]
    },
    {
      "cell_type": "markdown",
      "metadata": {
        "id": "YthbIuWL486h"
      },
      "source": [
        "## BTC"
      ]
    },
    {
      "cell_type": "markdown",
      "metadata": {
        "id": "DW8GMffs486i"
      },
      "source": [
        "### Target"
      ]
    },
    {
      "cell_type": "code",
      "metadata": {
        "id": "LZUQB3bj486i",
        "scrolled": true,
        "outputId": "4be9f509-8853-4dde-a602-0691a474c6fb"
      },
      "source": [
        "df_BTC.target.describe()"
      ],
      "execution_count": null,
      "outputs": [
        {
          "output_type": "execute_result",
          "data": {
            "text/plain": [
              "count    1.223196e+06\n",
              "mean     1.231460e-06\n",
              "std      3.161616e-03\n",
              "min     -1.970404e-01\n",
              "25%     -1.033108e-03\n",
              "50%      1.212983e-05\n",
              "75%      1.059476e-03\n",
              "max      2.104344e-01\n",
              "Name: target, dtype: float64"
            ]
          },
          "metadata": {
            "tags": []
          },
          "execution_count": 570
        }
      ]
    },
    {
      "cell_type": "code",
      "metadata": {
        "id": "c2qIiT4W486i",
        "scrolled": false,
        "outputId": "872ad900-5440-44f8-aa69-9e33f1554922"
      },
      "source": [
        "plt.plot(df_BTC.index[::60], df_BTC.target[::60])"
      ],
      "execution_count": null,
      "outputs": [
        {
          "output_type": "execute_result",
          "data": {
            "text/plain": [
              "[<matplotlib.lines.Line2D at 0x1cd377b1a00>]"
            ]
          },
          "metadata": {
            "tags": []
          },
          "execution_count": 571
        },
        {
          "output_type": "display_data",
          "data": {
            "image/png": "[encoded data removed]",
            "text/plain": [
              "<Figure size 432x288 with 1 Axes>"
            ]
          },
          "metadata": {
            "tags": [],
            "needs_background": "light"
          }
        }
      ]
    },
    {
      "cell_type": "markdown",
      "metadata": {
        "id": "HMdDjEgp486i"
      },
      "source": [
        "### Opening price"
      ]
    },
    {
      "cell_type": "code",
      "metadata": {
        "id": "fx7CHzhS486i",
        "scrolled": false,
        "outputId": "75ee75b8-025e-4e96-d284-177983717b4f"
      },
      "source": [
        "plt.hist(df_BTC.Open)"
      ],
      "execution_count": null,
      "outputs": [
        {
          "output_type": "execute_result",
          "data": {
            "text/plain": [
              "(array([182339.,  50428., 102508., 263534., 174077., 222323., 127043.,\n",
              "         76879.,  22757.,   1328.]),\n",
              " array([ 3157.69 ,  4238.321,  5318.952,  6399.583,  7480.214,  8560.845,\n",
              "         9641.476, 10722.107, 11802.738, 12883.369, 13964.   ]),\n",
              " <a list of 10 Patch objects>)"
            ]
          },
          "metadata": {
            "tags": []
          },
          "execution_count": 77
        },
        {
          "output_type": "display_data",
          "data": {
            "image/png": "[encoded data removed]",
            "text/plain": [
              "<Figure size 432x288 with 1 Axes>"
            ]
          },
          "metadata": {
            "tags": [],
            "needs_background": "light"
          }
        }
      ]
    },
    {
      "cell_type": "code",
      "metadata": {
        "id": "0kptEP0q486j"
      },
      "source": [
        "def adf(df):\n",
        "    X = df[1::60]\n",
        "    result = adfuller(X)\n",
        "    print('ADF Statistic: %f' % result[0])\n",
        "    print('p-value: %f' % result[1])\n",
        "    print('Critical Values:')\n",
        "    for key, value in result[4].items():\n",
        "        print('\\t%s: %.3f' % (key, value))"
      ],
      "execution_count": null,
      "outputs": []
    },
    {
      "cell_type": "code",
      "metadata": {
        "id": "87szMGmm486j",
        "outputId": "8b4c2aff-fce7-4e1b-f91a-a1d8b6a453a3"
      },
      "source": [
        "adf(df_BTC.Open)"
      ],
      "execution_count": null,
      "outputs": [
        {
          "output_type": "stream",
          "text": [
            "ADF Statistic: -1.442851\n",
            "p-value: 0.561569\n",
            "Critical Values:\n",
            "\t1%: -3.431\n",
            "\t5%: -2.862\n",
            "\t10%: -2.567\n"
          ],
          "name": "stdout"
        }
      ]
    },
    {
      "cell_type": "markdown",
      "metadata": {
        "id": "ja39hwK4486j"
      },
      "source": [
        "Since the p-value is large, we cannot reject the null hypothesis that there is a unit root. \\\n",
        "The time series is non stationary. "
      ]
    },
    {
      "cell_type": "code",
      "metadata": {
        "id": "OT-F8JNe486j",
        "outputId": "3dbc5e8f-1406-46ce-d26f-6c5a6423fcf0"
      },
      "source": [
        "# Percentage change\n",
        "df_BTC['prc_change'] = 0\n",
        "df_BTC['prc_change'][1:] = np.diff(np.log(df_BTC['Open']))"
      ],
      "execution_count": null,
      "outputs": [
        {
          "output_type": "stream",
          "text": [
            "<ipython-input-41-9bbaf2dc140e>:3: SettingWithCopyWarning: \n",
            "A value is trying to be set on a copy of a slice from a DataFrame\n",
            "\n",
            "See the caveats in the documentation: https://pandas.pydata.org/pandas-docs/stable/user_guide/indexing.html#returning-a-view-versus-a-copy\n",
            "  df_BTC['prc_change'][1:] = np.diff(np.log(df_BTC['Open']))\n"
          ],
          "name": "stderr"
        }
      ]
    },
    {
      "cell_type": "code",
      "metadata": {
        "id": "A1NvNY7g486j",
        "scrolled": true,
        "outputId": "93b4539b-e1f9-4cfd-cffd-57ea70c88537"
      },
      "source": [
        "plt.plot(df_BTC.index[::60], df_BTC.prc_change[::60])"
      ],
      "execution_count": null,
      "outputs": [
        {
          "output_type": "execute_result",
          "data": {
            "text/plain": [
              "[<matplotlib.lines.Line2D at 0x1ccf2266c40>]"
            ]
          },
          "metadata": {
            "tags": []
          },
          "execution_count": 569
        },
        {
          "output_type": "display_data",
          "data": {
            "image/png": "[encoded data removed]",
            "text/plain": [
              "<Figure size 432x288 with 1 Axes>"
            ]
          },
          "metadata": {
            "tags": [],
            "needs_background": "light"
          }
        }
      ]
    },
    {
      "cell_type": "code",
      "metadata": {
        "id": "jDzcDbzZ486j",
        "scrolled": false,
        "outputId": "881e0dae-28c7-41b1-f526-2d42b1343263"
      },
      "source": [
        "plt.hist(np.clip(df_BTC.prc_change[::60], -0.003, 0.003))"
      ],
      "execution_count": null,
      "outputs": [
        {
          "output_type": "execute_result",
          "data": {
            "text/plain": [
              "(array([ 268.,  210.,  542., 1812., 7205., 7343., 1925.,  614.,  235.,\n",
              "         233.]),\n",
              " array([-0.003 , -0.0024, -0.0018, -0.0012, -0.0006,  0.    ,  0.0006,\n",
              "         0.0012,  0.0018,  0.0024,  0.003 ]),\n",
              " <a list of 10 Patch objects>)"
            ]
          },
          "metadata": {
            "tags": []
          },
          "execution_count": 68
        },
        {
          "output_type": "display_data",
          "data": {
            "image/png": "[encoded data removed]",
            "text/plain": [
              "<Figure size 432x288 with 1 Axes>"
            ]
          },
          "metadata": {
            "tags": [],
            "needs_background": "light"
          }
        }
      ]
    },
    {
      "cell_type": "code",
      "metadata": {
        "id": "2KBOad9W486k",
        "outputId": "451d3f42-292b-4d73-acfb-ed0eb6f95ec6"
      },
      "source": [
        "adf(df_BTC.prc_change)"
      ],
      "execution_count": null,
      "outputs": [
        {
          "output_type": "stream",
          "text": [
            "ADF Statistic: -20.910557\n",
            "p-value: 0.000000\n",
            "Critical Values:\n",
            "\t1%: -3.431\n",
            "\t5%: -2.862\n",
            "\t10%: -2.567\n"
          ],
          "name": "stdout"
        }
      ]
    },
    {
      "cell_type": "markdown",
      "metadata": {
        "id": "PkC6kd0_486k"
      },
      "source": [
        "Since the p-value is very small, we can reject the null hypothesis that there is a unit root.\\\n",
        "The time series is stationary. "
      ]
    },
    {
      "cell_type": "markdown",
      "metadata": {
        "id": "agCqE8xQ486k"
      },
      "source": [
        "### Volume"
      ]
    },
    {
      "cell_type": "code",
      "metadata": {
        "id": "ECpmRrlN486k",
        "outputId": "82fb5974-d124-49f8-e54b-80f192954462"
      },
      "source": [
        "plt.plot(df_BTC.index[::60], df_BTC.Volume[::60])"
      ],
      "execution_count": null,
      "outputs": [
        {
          "output_type": "execute_result",
          "data": {
            "text/plain": [
              "[<matplotlib.lines.Line2D at 0x1cd11804760>]"
            ]
          },
          "metadata": {
            "tags": []
          },
          "execution_count": 572
        },
        {
          "output_type": "display_data",
          "data": {
            "image/png": "[encoded data removed]",
            "text/plain": [
              "<Figure size 432x288 with 1 Axes>"
            ]
          },
          "metadata": {
            "tags": [],
            "needs_background": "light"
          }
        }
      ]
    },
    {
      "cell_type": "code",
      "metadata": {
        "id": "tEwBzqTc486k",
        "scrolled": false,
        "outputId": "7a341b39-559d-4359-ccf8-c2037cc18a59"
      },
      "source": [
        "plt.hist(np.clip(df_BTC.Volume[::60], 0, 200))"
      ],
      "execution_count": null,
      "outputs": [
        {
          "output_type": "execute_result",
          "data": {
            "text/plain": [
              "(array([10382.,  5331.,  2029.,   993.,   468.,   307.,   212.,   129.,\n",
              "          107.,   429.]),\n",
              " array([  0.,  20.,  40.,  60.,  80., 100., 120., 140., 160., 180., 200.]),\n",
              " <a list of 10 Patch objects>)"
            ]
          },
          "metadata": {
            "tags": []
          },
          "execution_count": 639
        },
        {
          "output_type": "display_data",
          "data": {
            "image/png": "[encoded data removed]",
            "text/plain": [
              "<Figure size 432x288 with 1 Axes>"
            ]
          },
          "metadata": {
            "tags": [],
            "needs_background": "light"
          }
        }
      ]
    },
    {
      "cell_type": "code",
      "metadata": {
        "id": "KpRUJ5_w486l",
        "outputId": "201d6ecb-3a0f-4744-b1fd-a82e8b28c207"
      },
      "source": [
        "adf(df_BTC.Volume)"
      ],
      "execution_count": null,
      "outputs": [
        {
          "output_type": "stream",
          "text": [
            "ADF Statistic: -11.570529\n",
            "p-value: 0.000000\n",
            "Critical Values:\n",
            "\t1%: -3.431\n",
            "\t5%: -2.862\n",
            "\t10%: -2.567\n"
          ],
          "name": "stdout"
        }
      ]
    },
    {
      "cell_type": "markdown",
      "metadata": {
        "id": "HI_FWA_3486l"
      },
      "source": [
        "Since the p-value is very small, we can reject the null hypothesis that there is a unit root.\\\n",
        "The time series is stationary. "
      ]
    },
    {
      "cell_type": "code",
      "metadata": {
        "id": "tS0MRjin486l"
      },
      "source": [
        "# Log features\n",
        "X = np.log(df_BTC.Volume + 1e-8)[1::60] "
      ],
      "execution_count": null,
      "outputs": []
    },
    {
      "cell_type": "code",
      "metadata": {
        "id": "xxzjcG0W486l",
        "outputId": "2cec9195-b1be-4a92-cead-779db6b1b7c0"
      },
      "source": [
        "plt.plot(df_BTC.index[::60], X)"
      ],
      "execution_count": null,
      "outputs": [
        {
          "output_type": "execute_result",
          "data": {
            "text/plain": [
              "[<matplotlib.lines.Line2D at 0x1cd11cfaa30>]"
            ]
          },
          "metadata": {
            "tags": []
          },
          "execution_count": 631
        },
        {
          "output_type": "display_data",
          "data": {
            "image/png": "[encoded data removed]",
            "text/plain": [
              "<Figure size 432x288 with 1 Axes>"
            ]
          },
          "metadata": {
            "tags": [],
            "needs_background": "light"
          }
        }
      ]
    },
    {
      "cell_type": "code",
      "metadata": {
        "id": "zNHswMkx486l",
        "scrolled": true,
        "outputId": "cc2f1fe0-fcc5-4dcc-dfad-011cd9f5fcf5"
      },
      "source": [
        "plt.hist(np.clip(X, -2, 8))"
      ],
      "execution_count": null,
      "outputs": [
        {
          "output_type": "execute_result",
          "data": {
            "text/plain": [
              "(array([  10.,   39.,  193., 1516., 5885., 7492., 3920., 1078.,  214.,\n",
              "          40.]),\n",
              " array([-2.        , -1.06765293, -0.13530587,  0.7970412 ,  1.72938826,\n",
              "         2.66173533,  3.59408239,  4.52642946,  5.45877653,  6.39112359,\n",
              "         7.32347066]),\n",
              " <a list of 10 Patch objects>)"
            ]
          },
          "metadata": {
            "tags": []
          },
          "execution_count": 635
        },
        {
          "output_type": "display_data",
          "data": {
            "image/png": "[encoded data removed]",
            "text/plain": [
              "<Figure size 432x288 with 1 Axes>"
            ]
          },
          "metadata": {
            "tags": [],
            "needs_background": "light"
          }
        }
      ]
    },
    {
      "cell_type": "code",
      "metadata": {
        "id": "Da07VtVE486l",
        "scrolled": true,
        "outputId": "a930a028-c647-4c3c-efcf-3f5d9efcc34b"
      },
      "source": [
        "adf(X)"
      ],
      "execution_count": null,
      "outputs": [
        {
          "output_type": "stream",
          "text": [
            "ADF Statistic: -5.395814\n",
            "p-value: 0.000003\n",
            "Critical Values:\n",
            "\t1%: -3.450\n",
            "\t5%: -2.870\n",
            "\t10%: -2.571\n"
          ],
          "name": "stdout"
        }
      ]
    },
    {
      "cell_type": "markdown",
      "metadata": {
        "id": "j4nRDbAK486m"
      },
      "source": [
        "Since the p-value is very small, we can reject the null hypothesis that there is a unit root.\\\n",
        "The time series is stationary. "
      ]
    },
    {
      "cell_type": "markdown",
      "metadata": {
        "id": "4pjxyOmC486m"
      },
      "source": [
        "### Quote asset volume"
      ]
    },
    {
      "cell_type": "code",
      "metadata": {
        "id": "4e7yutyr486m",
        "scrolled": false,
        "outputId": "41cf5c63-9173-4392-a59e-8e0479b479cd"
      },
      "source": [
        "plt.plot(df_BTC.index[::60], df_BTC['Quote asset volume'][::60])"
      ],
      "execution_count": null,
      "outputs": [
        {
          "output_type": "execute_result",
          "data": {
            "text/plain": [
              "[<matplotlib.lines.Line2D at 0x1ef127a2f40>]"
            ]
          },
          "metadata": {
            "tags": []
          },
          "execution_count": 46
        },
        {
          "output_type": "display_data",
          "data": {
            "image/png": "[encoded data removed]",
            "text/plain": [
              "<Figure size 432x288 with 1 Axes>"
            ]
          },
          "metadata": {
            "tags": [],
            "needs_background": "light"
          }
        }
      ]
    },
    {
      "cell_type": "code",
      "metadata": {
        "id": "9f9IX8Za486m",
        "outputId": "1796a525-bfe4-41ee-af3e-611cf1c7a859"
      },
      "source": [
        "adf(df_BTC['Quote asset volume'])"
      ],
      "execution_count": null,
      "outputs": [
        {
          "output_type": "stream",
          "text": [
            "ADF Statistic: -10.377141\n",
            "p-value: 0.000000\n",
            "Critical Values:\n",
            "\t1%: -3.431\n",
            "\t5%: -2.862\n",
            "\t10%: -2.567\n"
          ],
          "name": "stdout"
        }
      ]
    },
    {
      "cell_type": "markdown",
      "metadata": {
        "id": "rsh86ywd486m"
      },
      "source": [
        "Since the p-value is very small, we can reject the null hypothesis that there is a unit root.\\\n",
        "The time series is stationary. "
      ]
    },
    {
      "cell_type": "code",
      "metadata": {
        "id": "Qb9Bkwg0486m",
        "outputId": "3289e5bb-4db8-4c21-dce0-9169a6e42c91"
      },
      "source": [
        "# Log features\n",
        "adf(np.log(df_BTC['Quote asset volume'] + 1e-8))"
      ],
      "execution_count": null,
      "outputs": [
        {
          "output_type": "stream",
          "text": [
            "ADF Statistic: -6.533189\n",
            "p-value: 0.000000\n",
            "Critical Values:\n",
            "\t1%: -3.431\n",
            "\t5%: -2.862\n",
            "\t10%: -2.567\n"
          ],
          "name": "stdout"
        }
      ]
    },
    {
      "cell_type": "markdown",
      "metadata": {
        "id": "jHIQwEQ4486n"
      },
      "source": [
        "Since the p-value is very small, we can reject the null hypothesis that there is a unit root.\\\n",
        "The time series is stationary. "
      ]
    },
    {
      "cell_type": "markdown",
      "metadata": {
        "id": "jCJ8fG5-486n"
      },
      "source": [
        "### Number of trades"
      ]
    },
    {
      "cell_type": "code",
      "metadata": {
        "id": "a8htdYOM486n",
        "scrolled": true,
        "outputId": "05544b3f-2062-45a6-9e7a-abb475fb6733"
      },
      "source": [
        "plt.plot(df_BTC.index[::60], df_BTC['Number of trades'][::60])"
      ],
      "execution_count": null,
      "outputs": [
        {
          "output_type": "execute_result",
          "data": {
            "text/plain": [
              "[<matplotlib.lines.Line2D at 0x1cd1168c4f0>]"
            ]
          },
          "metadata": {
            "tags": []
          },
          "execution_count": 578
        },
        {
          "output_type": "display_data",
          "data": {
            "image/png": "[encoded data removed]",
            "text/plain": [
              "<Figure size 432x288 with 1 Axes>"
            ]
          },
          "metadata": {
            "tags": [],
            "needs_background": "light"
          }
        }
      ]
    },
    {
      "cell_type": "code",
      "metadata": {
        "id": "gEfSvwe7486n",
        "outputId": "20ea7acd-0c5d-43c1-ec40-78422fac4e6f"
      },
      "source": [
        "adf(df_BTC['Number of trades'])"
      ],
      "execution_count": null,
      "outputs": [
        {
          "output_type": "stream",
          "text": [
            "ADF Statistic: -7.691617\n",
            "p-value: 0.000000\n",
            "Critical Values:\n",
            "\t1%: -3.431\n",
            "\t5%: -2.862\n",
            "\t10%: -2.567\n"
          ],
          "name": "stdout"
        }
      ]
    },
    {
      "cell_type": "code",
      "metadata": {
        "id": "mU1GLb8v486n",
        "outputId": "8847a7ab-3ce8-462d-c5a9-23dd48ef2d76"
      },
      "source": [
        "# Log features\n",
        "adf(np.log(df_BTC['Number of trades'] + 1e-8))"
      ],
      "execution_count": null,
      "outputs": [
        {
          "output_type": "stream",
          "text": [
            "ADF Statistic: -5.592473\n",
            "p-value: 0.000001\n",
            "Critical Values:\n",
            "\t1%: -3.431\n",
            "\t5%: -2.862\n",
            "\t10%: -2.567\n"
          ],
          "name": "stdout"
        }
      ]
    },
    {
      "cell_type": "markdown",
      "metadata": {
        "id": "Jz2-WSt8486n"
      },
      "source": [
        "Since the p-value is very small, we can reject the null hypothesis that there is a unit root.\\\n",
        "The time series is stationary. "
      ]
    },
    {
      "cell_type": "markdown",
      "metadata": {
        "id": "ppZY5vRo486o"
      },
      "source": [
        "### Taker buy base asset volume"
      ]
    },
    {
      "cell_type": "code",
      "metadata": {
        "id": "6oartwYw486o",
        "outputId": "1d4921ad-f217-4941-e5a5-ee757cc0c958"
      },
      "source": [
        "plt.plot(df_BTC.index[::60], df_BTC['Taker buy base asset volume'][::60])"
      ],
      "execution_count": null,
      "outputs": [
        {
          "output_type": "execute_result",
          "data": {
            "text/plain": [
              "[<matplotlib.lines.Line2D at 0x1cc9b862df0>]"
            ]
          },
          "metadata": {
            "tags": []
          },
          "execution_count": 581
        },
        {
          "output_type": "display_data",
          "data": {
            "image/png": "[encoded data removed]",
            "text/plain": [
              "<Figure size 432x288 with 1 Axes>"
            ]
          },
          "metadata": {
            "tags": [],
            "needs_background": "light"
          }
        }
      ]
    },
    {
      "cell_type": "code",
      "metadata": {
        "id": "U1ivy2y7486o",
        "scrolled": true,
        "outputId": "ba1078d5-5cc4-4a6e-c432-d13497f6763d"
      },
      "source": [
        "adf(df_BTC['Taker buy base asset volume'])"
      ],
      "execution_count": null,
      "outputs": [
        {
          "output_type": "stream",
          "text": [
            "ADF Statistic: -11.921990\n",
            "p-value: 0.000000\n",
            "Critical Values:\n",
            "\t1%: -3.431\n",
            "\t5%: -2.862\n",
            "\t10%: -2.567\n"
          ],
          "name": "stdout"
        }
      ]
    },
    {
      "cell_type": "markdown",
      "metadata": {
        "id": "OZUyjTP4486o"
      },
      "source": [
        "Since the p-value is very small, we can reject the null hypothesis that there is a unit root.\\\n",
        "The time series is stationary. "
      ]
    },
    {
      "cell_type": "code",
      "metadata": {
        "id": "Hq1mb_vp486o",
        "outputId": "455a26b1-5070-4067-cb18-333f3a7bd538"
      },
      "source": [
        "adf(np.log(df_BTC['Taker buy base asset volume'] + 1e-8))"
      ],
      "execution_count": null,
      "outputs": [
        {
          "output_type": "stream",
          "text": [
            "ADF Statistic: -9.123486\n",
            "p-value: 0.000000\n",
            "Critical Values:\n",
            "\t1%: -3.431\n",
            "\t5%: -2.862\n",
            "\t10%: -2.567\n"
          ],
          "name": "stdout"
        }
      ]
    },
    {
      "cell_type": "markdown",
      "metadata": {
        "id": "TM5pshvR486o"
      },
      "source": [
        "Since the p-value is very small, we can reject the null hypothesis that there is a unit root.\\\n",
        "The time series is stationary. "
      ]
    },
    {
      "cell_type": "markdown",
      "metadata": {
        "id": "16Gpc1BD-W9I"
      },
      "source": [
        "# Data Preprocessing\n",
        "\n"
      ]
    },
    {
      "cell_type": "code",
      "metadata": {
        "id": "LwPGWB13Uu5E"
      },
      "source": [
        "curr_dict = {\n",
        "    'BTCUSDT': 0,\n",
        "    'ETHUSDT': 1,\n",
        "    'LTCUSDT': 2,\n",
        "    'XRPUSDT': 3\n",
        "}\n",
        "train_df = train_df.replace({'name': curr_dict})\n",
        "test_df = test_df.replace({'name': curr_dict})"
      ],
      "execution_count": null,
      "outputs": []
    },
    {
      "cell_type": "code",
      "metadata": {
        "id": "z0e2Mw-D9UZb"
      },
      "source": [
        "#Make a copy of train and test data before create data time features\n",
        "train_df_ = train_df.copy()\n",
        "test_df_ = test_df.copy()"
      ],
      "execution_count": null,
      "outputs": []
    },
    {
      "cell_type": "markdown",
      "metadata": {
        "id": "lKCnJx_7_H4K"
      },
      "source": [
        "## Date time features"
      ]
    },
    {
      "cell_type": "code",
      "metadata": {
        "id": "ZFkPlkfS-AFH"
      },
      "source": [
        "def get_time_features(df):\n",
        "    df['time'] = pd.to_datetime(df['time'])\n",
        "    df['year'] = df['time'].dt.year\n",
        "    df['month'] = df['time'].dt.month\n",
        "    df['day'] = df['time'].dt.day\n",
        "    df['hour'] = df['time'].dt.hour\n",
        "    df['minute'] = df['time'].dt.minute\n",
        "    return df"
      ],
      "execution_count": null,
      "outputs": []
    },
    {
      "cell_type": "code",
      "metadata": {
        "id": "1KseTCWRgAAY"
      },
      "source": [
        "train_df = get_time_features(train_df)\n",
        "test_df = get_time_features(test_df)"
      ],
      "execution_count": null,
      "outputs": []
    },
    {
      "cell_type": "markdown",
      "metadata": {
        "id": "PT9FXqks_KNz"
      },
      "source": [
        "## Log features"
      ]
    },
    {
      "cell_type": "code",
      "metadata": {
        "id": "mGqbBKclCbgG"
      },
      "source": [
        "def log_diff(col, df):\n",
        "    df['log_' + col] = 0\n",
        "    eps = 1e-8\n",
        "    for i in range(4):\n",
        "        df['log_' + col][4+i::4] = np.diff(np.log(df[col][i::4] + eps))\n",
        "    return df"
      ],
      "execution_count": null,
      "outputs": []
    },
    {
      "cell_type": "code",
      "metadata": {
        "id": "od1w1QEb_MLd"
      },
      "source": [
        "def log_features(df):\n",
        "    eps = 1e-8\n",
        "    df['log_Open'] = np.log(df['Open'] + eps)\n",
        "    df['log_High'] = np.log(df['High'] + eps)\n",
        "    df['log_Low'] = np.log(df['Low'] + eps)\n",
        "    df['log_Close'] = np.log(df['Close'] + eps)\n",
        "    # df = log_diff('Open', df)\n",
        "    # df = log_diff('High', df)\n",
        "    # df = log_diff('Low', df)\n",
        "    # df = log_diff('Close', df)\n",
        "    df['log_Volume'] = np.log(df['Volume'] + eps)\n",
        "    df['log_Quote asset volume'] = np.log(df['Quote asset volume'] + eps)\n",
        "    df['log_Taker buy base asset volume'] = np.log(df['Taker buy base asset volume'] + eps)\n",
        "    df['log_Taker buy quote asset volume'] = np.log(df['Taker buy quote asset volume'] + eps)\n",
        "    return df"
      ],
      "execution_count": null,
      "outputs": []
    },
    {
      "cell_type": "code",
      "metadata": {
        "id": "QHulG8vegOlE"
      },
      "source": [
        "train_df = log_features(train_df)\n",
        "test_df = log_features(test_df)"
      ],
      "execution_count": null,
      "outputs": []
    },
    {
      "cell_type": "code",
      "metadata": {
        "id": "bMVamsh-_sGc"
      },
      "source": [
        "data = train_df[[\n",
        "                 'name', 'log_Open', 'log_High', 'log_Low', 'log_Close', \n",
        "                 'log_Volume', 'log_Quote asset volume', 'log_Taker buy base asset volume',\n",
        "                 'log_Taker buy quote asset volume', 'Number of trades', 'year',\n",
        "                 'month', 'day', 'hour', 'minute', 'target'\n",
        "                ]]\n",
        "\n",
        "test_data = test_df[[\n",
        "                     'name', 'log_Open', 'log_High', 'log_Low', 'log_Close', \n",
        "                       'log_Volume', 'log_Quote asset volume', 'log_Taker buy base asset volume',\n",
        "                       'log_Taker buy quote asset volume', 'Number of trades', 'year',\n",
        "                       'month', 'day', 'hour', 'minute' \n",
        "                    ]]"
      ],
      "execution_count": null,
      "outputs": []
    },
    {
      "cell_type": "code",
      "metadata": {
        "id": "KAjIiN18m0qN"
      },
      "source": [
        "max_length = len(data)\n",
        "training_cutoff = int(max_length * 0.95)\n",
        "train_data = data.iloc[:training_cutoff]\n",
        "valid_data = data.iloc[training_cutoff:]"
      ],
      "execution_count": null,
      "outputs": []
    },
    {
      "cell_type": "code",
      "metadata": {
        "colab": {
          "base_uri": "https://localhost:8080/",
          "height": 275
        },
        "id": "uj8thmMKO6Qy",
        "outputId": "07c9bc11-720c-4f15-fb98-232def53e856"
      },
      "source": [
        "train_data.tail(5)"
      ],
      "execution_count": null,
      "outputs": [
        {
          "output_type": "execute_result",
          "data": {
            "text/html": [
              "<div>\n",
              "<style scoped>\n",
              "    .dataframe tbody tr th:only-of-type {\n",
              "        vertical-align: middle;\n",
              "    }\n",
              "\n",
              "    .dataframe tbody tr th {\n",
              "        vertical-align: top;\n",
              "    }\n",
              "\n",
              "    .dataframe thead th {\n",
              "        text-align: right;\n",
              "    }\n",
              "</style>\n",
              "<table border=\"1\" class=\"dataframe\">\n",
              "  <thead>\n",
              "    <tr style=\"text-align: right;\">\n",
              "      <th></th>\n",
              "      <th>name</th>\n",
              "      <th>log_Open</th>\n",
              "      <th>log_High</th>\n",
              "      <th>log_Low</th>\n",
              "      <th>log_Close</th>\n",
              "      <th>log_Volume</th>\n",
              "      <th>log_Quote asset volume</th>\n",
              "      <th>log_Taker buy base asset volume</th>\n",
              "      <th>log_Taker buy quote asset volume</th>\n",
              "      <th>Number of trades</th>\n",
              "      <th>year</th>\n",
              "      <th>month</th>\n",
              "      <th>day</th>\n",
              "      <th>hour</th>\n",
              "      <th>minute</th>\n",
              "      <th>target</th>\n",
              "    </tr>\n",
              "  </thead>\n",
              "  <tbody>\n",
              "    <tr>\n",
              "      <th>4648139</th>\n",
              "      <td>3</td>\n",
              "      <td>-1.622169</td>\n",
              "      <td>-1.622017</td>\n",
              "      <td>-1.622827</td>\n",
              "      <td>-1.622726</td>\n",
              "      <td>10.834326</td>\n",
              "      <td>9.212009</td>\n",
              "      <td>9.612901</td>\n",
              "      <td>7.990520</td>\n",
              "      <td>29</td>\n",
              "      <td>2020</td>\n",
              "      <td>7</td>\n",
              "      <td>22</td>\n",
              "      <td>9</td>\n",
              "      <td>48</td>\n",
              "      <td>0.000008</td>\n",
              "    </tr>\n",
              "    <tr>\n",
              "      <th>4648140</th>\n",
              "      <td>0</td>\n",
              "      <td>9.139785</td>\n",
              "      <td>9.139786</td>\n",
              "      <td>9.139596</td>\n",
              "      <td>9.139693</td>\n",
              "      <td>3.310736</td>\n",
              "      <td>12.450412</td>\n",
              "      <td>2.827609</td>\n",
              "      <td>11.967278</td>\n",
              "      <td>497</td>\n",
              "      <td>2020</td>\n",
              "      <td>7</td>\n",
              "      <td>22</td>\n",
              "      <td>9</td>\n",
              "      <td>49</td>\n",
              "      <td>-0.000647</td>\n",
              "    </tr>\n",
              "    <tr>\n",
              "      <th>4648141</th>\n",
              "      <td>1</td>\n",
              "      <td>5.492773</td>\n",
              "      <td>5.492856</td>\n",
              "      <td>5.492609</td>\n",
              "      <td>5.492691</td>\n",
              "      <td>5.795107</td>\n",
              "      <td>11.287828</td>\n",
              "      <td>4.005656</td>\n",
              "      <td>9.498368</td>\n",
              "      <td>105</td>\n",
              "      <td>2020</td>\n",
              "      <td>7</td>\n",
              "      <td>22</td>\n",
              "      <td>9</td>\n",
              "      <td>49</td>\n",
              "      <td>-0.000205</td>\n",
              "    </tr>\n",
              "    <tr>\n",
              "      <th>4648142</th>\n",
              "      <td>2</td>\n",
              "      <td>3.770229</td>\n",
              "      <td>3.770229</td>\n",
              "      <td>3.769999</td>\n",
              "      <td>3.769999</td>\n",
              "      <td>1.114364</td>\n",
              "      <td>4.884423</td>\n",
              "      <td>1.114364</td>\n",
              "      <td>4.884423</td>\n",
              "      <td>7</td>\n",
              "      <td>2020</td>\n",
              "      <td>7</td>\n",
              "      <td>22</td>\n",
              "      <td>9</td>\n",
              "      <td>49</td>\n",
              "      <td>-0.000225</td>\n",
              "    </tr>\n",
              "    <tr>\n",
              "      <th>4648143</th>\n",
              "      <td>3</td>\n",
              "      <td>-1.622624</td>\n",
              "      <td>-1.622624</td>\n",
              "      <td>-1.623030</td>\n",
              "      <td>-1.622726</td>\n",
              "      <td>9.415809</td>\n",
              "      <td>7.792932</td>\n",
              "      <td>7.852284</td>\n",
              "      <td>6.229532</td>\n",
              "      <td>22</td>\n",
              "      <td>2020</td>\n",
              "      <td>7</td>\n",
              "      <td>22</td>\n",
              "      <td>9</td>\n",
              "      <td>49</td>\n",
              "      <td>-0.000075</td>\n",
              "    </tr>\n",
              "  </tbody>\n",
              "</table>\n",
              "</div>"
            ],
            "text/plain": [
              "         name  log_Open  log_High   log_Low  log_Close  log_Volume  \\\n",
              "4648139     3 -1.622169 -1.622017 -1.622827  -1.622726   10.834326   \n",
              "4648140     0  9.139785  9.139786  9.139596   9.139693    3.310736   \n",
              "4648141     1  5.492773  5.492856  5.492609   5.492691    5.795107   \n",
              "4648142     2  3.770229  3.770229  3.769999   3.769999    1.114364   \n",
              "4648143     3 -1.622624 -1.622624 -1.623030  -1.622726    9.415809   \n",
              "\n",
              "         log_Quote asset volume  log_Taker buy base asset volume  \\\n",
              "4648139                9.212009                         9.612901   \n",
              "4648140               12.450412                         2.827609   \n",
              "4648141               11.287828                         4.005656   \n",
              "4648142                4.884423                         1.114364   \n",
              "4648143                7.792932                         7.852284   \n",
              "\n",
              "         log_Taker buy quote asset volume  Number of trades  year  month  day  \\\n",
              "4648139                          7.990520                29  2020      7   22   \n",
              "4648140                         11.967278               497  2020      7   22   \n",
              "4648141                          9.498368               105  2020      7   22   \n",
              "4648142                          4.884423                 7  2020      7   22   \n",
              "4648143                          6.229532                22  2020      7   22   \n",
              "\n",
              "         hour  minute    target  \n",
              "4648139     9      48  0.000008  \n",
              "4648140     9      49 -0.000647  \n",
              "4648141     9      49 -0.000205  \n",
              "4648142     9      49 -0.000225  \n",
              "4648143     9      49 -0.000075  "
            ]
          },
          "metadata": {
            "tags": []
          },
          "execution_count": 47
        }
      ]
    },
    {
      "cell_type": "code",
      "metadata": {
        "colab": {
          "base_uri": "https://localhost:8080/",
          "height": 275
        },
        "id": "HPcR4LwTPBGj",
        "outputId": "ee0554e5-cfd8-40dd-97a6-a824d1ffec41"
      },
      "source": [
        "valid_data.head(5)"
      ],
      "execution_count": null,
      "outputs": [
        {
          "output_type": "execute_result",
          "data": {
            "text/html": [
              "<div>\n",
              "<style scoped>\n",
              "    .dataframe tbody tr th:only-of-type {\n",
              "        vertical-align: middle;\n",
              "    }\n",
              "\n",
              "    .dataframe tbody tr th {\n",
              "        vertical-align: top;\n",
              "    }\n",
              "\n",
              "    .dataframe thead th {\n",
              "        text-align: right;\n",
              "    }\n",
              "</style>\n",
              "<table border=\"1\" class=\"dataframe\">\n",
              "  <thead>\n",
              "    <tr style=\"text-align: right;\">\n",
              "      <th></th>\n",
              "      <th>name</th>\n",
              "      <th>log_Open</th>\n",
              "      <th>log_High</th>\n",
              "      <th>log_Low</th>\n",
              "      <th>log_Close</th>\n",
              "      <th>log_Volume</th>\n",
              "      <th>log_Quote asset volume</th>\n",
              "      <th>log_Taker buy base asset volume</th>\n",
              "      <th>log_Taker buy quote asset volume</th>\n",
              "      <th>Number of trades</th>\n",
              "      <th>year</th>\n",
              "      <th>month</th>\n",
              "      <th>day</th>\n",
              "      <th>hour</th>\n",
              "      <th>minute</th>\n",
              "      <th>target</th>\n",
              "    </tr>\n",
              "  </thead>\n",
              "  <tbody>\n",
              "    <tr>\n",
              "      <th>4648144</th>\n",
              "      <td>0</td>\n",
              "      <td>9.139693</td>\n",
              "      <td>9.139808</td>\n",
              "      <td>9.139305</td>\n",
              "      <td>9.139775</td>\n",
              "      <td>4.778390</td>\n",
              "      <td>13.917844</td>\n",
              "      <td>4.672046</td>\n",
              "      <td>13.811487</td>\n",
              "      <td>569</td>\n",
              "      <td>2020</td>\n",
              "      <td>7</td>\n",
              "      <td>22</td>\n",
              "      <td>9</td>\n",
              "      <td>50</td>\n",
              "      <td>-0.000352</td>\n",
              "    </tr>\n",
              "    <tr>\n",
              "      <th>4648145</th>\n",
              "      <td>1</td>\n",
              "      <td>5.492732</td>\n",
              "      <td>5.492773</td>\n",
              "      <td>5.492114</td>\n",
              "      <td>5.492773</td>\n",
              "      <td>6.197024</td>\n",
              "      <td>11.689506</td>\n",
              "      <td>4.927963</td>\n",
              "      <td>10.420436</td>\n",
              "      <td>152</td>\n",
              "      <td>2020</td>\n",
              "      <td>7</td>\n",
              "      <td>22</td>\n",
              "      <td>9</td>\n",
              "      <td>50</td>\n",
              "      <td>0.000041</td>\n",
              "    </tr>\n",
              "    <tr>\n",
              "      <th>4648146</th>\n",
              "      <td>2</td>\n",
              "      <td>3.769999</td>\n",
              "      <td>3.769999</td>\n",
              "      <td>3.769307</td>\n",
              "      <td>3.769999</td>\n",
              "      <td>4.088574</td>\n",
              "      <td>7.858338</td>\n",
              "      <td>2.926984</td>\n",
              "      <td>6.696764</td>\n",
              "      <td>17</td>\n",
              "      <td>2020</td>\n",
              "      <td>7</td>\n",
              "      <td>22</td>\n",
              "      <td>9</td>\n",
              "      <td>50</td>\n",
              "      <td>0.000000</td>\n",
              "    </tr>\n",
              "    <tr>\n",
              "      <th>4648147</th>\n",
              "      <td>3</td>\n",
              "      <td>-1.622827</td>\n",
              "      <td>-1.622776</td>\n",
              "      <td>-1.623081</td>\n",
              "      <td>-1.622878</td>\n",
              "      <td>10.788839</td>\n",
              "      <td>9.165907</td>\n",
              "      <td>9.606852</td>\n",
              "      <td>7.983942</td>\n",
              "      <td>26</td>\n",
              "      <td>2020</td>\n",
              "      <td>7</td>\n",
              "      <td>22</td>\n",
              "      <td>9</td>\n",
              "      <td>50</td>\n",
              "      <td>-0.000042</td>\n",
              "    </tr>\n",
              "    <tr>\n",
              "      <th>4648148</th>\n",
              "      <td>0</td>\n",
              "      <td>9.139774</td>\n",
              "      <td>9.139781</td>\n",
              "      <td>9.139506</td>\n",
              "      <td>9.139674</td>\n",
              "      <td>3.320438</td>\n",
              "      <td>12.460073</td>\n",
              "      <td>2.345568</td>\n",
              "      <td>11.485234</td>\n",
              "      <td>443</td>\n",
              "      <td>2020</td>\n",
              "      <td>7</td>\n",
              "      <td>22</td>\n",
              "      <td>9</td>\n",
              "      <td>51</td>\n",
              "      <td>-0.000123</td>\n",
              "    </tr>\n",
              "  </tbody>\n",
              "</table>\n",
              "</div>"
            ],
            "text/plain": [
              "         name  log_Open  log_High   log_Low  log_Close  log_Volume  \\\n",
              "4648144     0  9.139693  9.139808  9.139305   9.139775    4.778390   \n",
              "4648145     1  5.492732  5.492773  5.492114   5.492773    6.197024   \n",
              "4648146     2  3.769999  3.769999  3.769307   3.769999    4.088574   \n",
              "4648147     3 -1.622827 -1.622776 -1.623081  -1.622878   10.788839   \n",
              "4648148     0  9.139774  9.139781  9.139506   9.139674    3.320438   \n",
              "\n",
              "         log_Quote asset volume  log_Taker buy base asset volume  \\\n",
              "4648144               13.917844                         4.672046   \n",
              "4648145               11.689506                         4.927963   \n",
              "4648146                7.858338                         2.926984   \n",
              "4648147                9.165907                         9.606852   \n",
              "4648148               12.460073                         2.345568   \n",
              "\n",
              "         log_Taker buy quote asset volume  Number of trades  year  month  day  \\\n",
              "4648144                         13.811487               569  2020      7   22   \n",
              "4648145                         10.420436               152  2020      7   22   \n",
              "4648146                          6.696764                17  2020      7   22   \n",
              "4648147                          7.983942                26  2020      7   22   \n",
              "4648148                         11.485234               443  2020      7   22   \n",
              "\n",
              "         hour  minute    target  \n",
              "4648144     9      50 -0.000352  \n",
              "4648145     9      50  0.000041  \n",
              "4648146     9      50  0.000000  \n",
              "4648147     9      50 -0.000042  \n",
              "4648148     9      51 -0.000123  "
            ]
          },
          "metadata": {
            "tags": []
          },
          "execution_count": 48
        }
      ]
    },
    {
      "cell_type": "markdown",
      "metadata": {
        "id": "OXDNVke9CVDj"
      },
      "source": [
        "# Ensemble"
      ]
    },
    {
      "cell_type": "code",
      "metadata": {
        "id": "_vD4t9_MCZD_"
      },
      "source": [
        "models = {}\n",
        "random_state = 420"
      ],
      "execution_count": null,
      "outputs": []
    },
    {
      "cell_type": "markdown",
      "metadata": {
        "id": "qLy2rqKcCKtK"
      },
      "source": [
        "## LightGBM"
      ]
    },
    {
      "cell_type": "code",
      "metadata": {
        "id": "P_hga6rpCKdh"
      },
      "source": [
        "models['lgb_gbdt'] = lambda: lgb.LGBMRegressor(\n",
        "    boosting_type='gbdt', \n",
        "    objective=\"rmse\",\n",
        "    min_child_samples=20,\n",
        "    num_leaves=40,\n",
        "    max_depth=16,\n",
        "    learning_rate=0.005,\n",
        "    n_estimators=1000,\n",
        "    colsample_bytree=.4,\n",
        "    subsample=1.0,\n",
        "    subsample_freq=0,\n",
        "    importance_type=\"gain\",\n",
        "    random_state=random_state,\n",
        "    n_jobs=-1,\n",
        "    device='gpu',\n",
        ")\n",
        "models['lgb_rf'] = lambda: lgb.LGBMRegressor(\n",
        "    boosting_type='rf', \n",
        "    objective=\"rmse\",\n",
        "    min_child_samples=20,\n",
        "    num_leaves=128,\n",
        "    max_depth=16,\n",
        "    learning_rate=0.005,\n",
        "    n_estimators=1000,\n",
        "    colsample_bytree=.5,\n",
        "    subsample=.95,\n",
        "    subsample_freq=20,\n",
        "    importance_type=\"gain\",\n",
        "    random_state=random_state,\n",
        "    n_jobs=-1,\n",
        "    device='gpu',\n",
        ")"
      ],
      "execution_count": null,
      "outputs": []
    },
    {
      "cell_type": "markdown",
      "metadata": {
        "id": "BRtbUxICCN8j"
      },
      "source": [
        "## CatBoost"
      ]
    },
    {
      "cell_type": "code",
      "metadata": {
        "id": "s2czpeMGCNvj"
      },
      "source": [
        "models['cat'] = lambda: CatBoostRegressor(\n",
        "    task_type='GPU',\n",
        "    loss_function=\"RMSE\",\n",
        "    learning_rate=.06,\n",
        "    max_depth=8,\n",
        "    min_child_samples=20,\n",
        "    colsample_bylevel=1.0,\n",
        "    n_estimators=None,\n",
        "    use_best_model=True,\n",
        "    random_seed=random_state,\n",
        ")"
      ],
      "execution_count": null,
      "outputs": []
    },
    {
      "cell_type": "markdown",
      "metadata": {
        "id": "JNgODIqfNEob"
      },
      "source": [
        "# Training"
      ]
    },
    {
      "cell_type": "code",
      "metadata": {
        "id": "v2EYVRpIJYlg"
      },
      "source": [
        "def training(model_call, train_X, train_y, valid_X, valid_y, test_X, verbose=False):\n",
        "    model = model_call()\n",
        "    if isinstance(model, lgb.LGBMRegressor) or isinstance(model, CatBoostRegressor):\n",
        "        model.fit(\n",
        "            train_X,\n",
        "            train_y,\n",
        "            eval_set=(\n",
        "                valid_X, valid_y\n",
        "            ),\n",
        "            early_stopping_rounds=100,\n",
        "            verbose=verbose,\n",
        "        )\n",
        "    else: \n",
        "        raise NotImplementedError\n",
        "    \n",
        "    train_preds = model.predict(train_X)\n",
        "    valid_preds = model.predict(valid_X)\n",
        "    test_preds = model.predict(test_X)\n",
        "\n",
        "    train_rmse = mean_squared_error(train_y, train_preds, squared=False)\n",
        "    valid_rmse = mean_squared_error(valid_y, valid_preds, squared=False)\n",
        "    print('train rmse: {}, valid rmse: {}'.format(train_rmse, valid_rmse))\n",
        "    return model, train_preds, valid_preds, test_preds"
      ],
      "execution_count": null,
      "outputs": []
    },
    {
      "cell_type": "code",
      "metadata": {
        "id": "XOXKAz0jSFNW"
      },
      "source": [
        "train_y = train_data['target']\n",
        "train_X = train_data.drop(columns=['target'])\n",
        "\n",
        "valid_y = valid_data['target']\n",
        "valid_X = valid_data.drop(columns=['target'])"
      ],
      "execution_count": null,
      "outputs": []
    },
    {
      "cell_type": "code",
      "metadata": {
        "colab": {
          "base_uri": "https://localhost:8080/"
        },
        "id": "V9VBOzvkNUO9",
        "outputId": "50b3d20d-d44b-4170-c339-5cf433a8b305"
      },
      "source": [
        "results = {}\n",
        "for key in models:\n",
        "    start = time.time()\n",
        "    model, train_preds, valid_preds, test_preds = training(models[key], \n",
        "                                                            train_X, train_y, \n",
        "                                                            valid_X, valid_y, \n",
        "                                                            test_data)\n",
        "    print(\"time taken for {}: {}s\".format(key, time.time() - start))\n",
        "    results[key] = {\n",
        "        'model': model,\n",
        "        'train_preds': train_preds,\n",
        "        'valid_preds': valid_preds,\n",
        "        'test_preds': test_preds,\n",
        "    }"
      ],
      "execution_count": null,
      "outputs": [
        {
          "output_type": "stream",
          "text": [
            "train rmse: 0.003360518955882364, valid rmse: 0.003151206127885028\n",
            "time taken for lgb_gbdt: 22.852113485336304s\n",
            "train rmse: 0.0033292869135981536, valid rmse: 0.003153606696591997\n",
            "time taken for lgb_rf: 93.08056616783142s\n",
            "train rmse: 0.0033629078800855115, valid rmse: 0.0031515707755785985\n",
            "time taken for cat: 6.653825759887695s\n"
          ],
          "name": "stdout"
        }
      ]
    },
    {
      "cell_type": "markdown",
      "metadata": {
        "id": "M7MsaGmWNRvQ"
      },
      "source": [
        "## Final linear regression "
      ]
    },
    {
      "cell_type": "code",
      "metadata": {
        "id": "VJX1KaCiNGMG"
      },
      "source": [
        "def final_linear(results, train_y, valid_y):\n",
        "    # fit validation data\n",
        "    train_preds = pd.DataFrame({key: results[key]['train_preds'] for key in results})\n",
        "    valid_preds = pd.DataFrame({key: results[key]['valid_preds'] for key in results})\n",
        "    test_preds = pd.DataFrame({key: results[key]['test_preds'] for key in results})\n",
        "\n",
        "    lr = LinearRegression()\n",
        "    lr.fit(valid_preds, valid_y)\n",
        "\n",
        "    final_train_pred = lr.predict(train_preds)\n",
        "    final_valid_pred = lr.predict(valid_preds)\n",
        "\n",
        "    train_rmse = mean_squared_error(train_y, final_train_pred, squared=False)\n",
        "    valid_rmse = mean_squared_error(valid_y, final_valid_pred, squared=False)\n",
        "    print('train rmse: {}, valid rmse: {}'.format(train_rmse, valid_rmse))\n",
        "\n",
        "    out = lr.predict(test_preds)\n",
        "    return out"
      ],
      "execution_count": null,
      "outputs": []
    },
    {
      "cell_type": "code",
      "metadata": {
        "id": "1JLfqkWKfxxs"
      },
      "source": [
        "def weighted_avg(results):\n",
        "    all_test_preds = None\n",
        "    for key in results:\n",
        "        if all_test_preds is None:\n",
        "            all_test_preds = 1./len(results) * results[key]['test_preds']\n",
        "        else:\n",
        "            all_test_preds += 1./len(results) * results[key]['test_preds']\n",
        "    return all_test_preds"
      ],
      "execution_count": null,
      "outputs": []
    },
    {
      "cell_type": "code",
      "metadata": {
        "colab": {
          "base_uri": "https://localhost:8080/"
        },
        "id": "8Xo2lEp16k6l",
        "outputId": "4c9b6f85-3ea8-4c73-d91b-1dcfc2593afd"
      },
      "source": [
        "# all_test_preds = weighted_avg(results)\n",
        "all_test_preds = final_linear(results, train_y, valid_y)"
      ],
      "execution_count": null,
      "outputs": [
        {
          "output_type": "stream",
          "text": [
            "train rmse: 0.0033554841070446238, valid rmse: 0.0031496201228185293\n"
          ],
          "name": "stdout"
        }
      ]
    },
    {
      "cell_type": "markdown",
      "metadata": {
        "id": "xLgZ4xXUIsGN"
      },
      "source": [
        "# Output Prediction"
      ]
    },
    {
      "cell_type": "code",
      "metadata": {
        "id": "_tpKi0YBDpJ_"
      },
      "source": [
        "sub_df = test_df[['id']].copy()\n",
        "sub_df = sub_df.rename(columns={'id': 'Id'})\n",
        "sub_df['Predicted'] = all_test_preds\n",
        "sub_df.to_csv(\"/content/drive/MyDrive/HKUST/MSBD5013/\" + 'sub{}.csv'.format(datetime.now().strftime('%Y%m%d_%H%M%S')), index=False)"
      ],
      "execution_count": null,
      "outputs": []
    },
    {
      "cell_type": "markdown",
      "metadata": {
        "id": "xUL9v5ay7eO6"
      },
      "source": [
        "# Xgboost"
      ]
    },
    {
      "cell_type": "code",
      "metadata": {
        "collapsed": true,
        "id": "aJW6XnUG7dFg",
        "outputId": "48795a03-841f-4ed1-a03b-74f5b4f23fea"
      },
      "source": [
        "xgb_model = xgb.XGBRegressor(\n",
        "    max_depth = 16,\n",
        "    learning_rate = 0.05,\n",
        "    n_estimators = 1000\n",
        "    )\n",
        "train_y = train_data['target']\n",
        "train_X = train_data.drop(columns=['target'])\n",
        "\n",
        "valid_y = valid_data['target']\n",
        "valid_X = valid_data.drop(columns=['target'])\n",
        "\n",
        "test_X = test_data\n",
        "\n",
        "xgb_model.fit(\n",
        "        train_X,\n",
        "        train_y,\n",
        "        eval_set=[(train_X, train_y), (valid_X, valid_y)],\n",
        "        early_stopping_rounds=100,\n",
        "        verbose=True)\n",
        "\n",
        "train_preds = xgb_model.predict(train_X)\n",
        "valid_preds = xgb_model.predict(valid_X)\n",
        "test_preds = xgb_model.predict(test_X)\n",
        "\n",
        "train_rmse = mean_squared_error(train_y, train_preds, squared=False)\n",
        "valid_rmse = mean_squared_error(valid_y, valid_preds, squared=False)\n",
        "print('train rmse: {}, valid rmse: {}'.format(train_rmse, valid_rmse))\n",
        "\n",
        "sub_df = test_df[['id']].copy()\n",
        "sub_df = sub_df.rename(columns={'id': 'Id'})\n",
        "sub_df['Predicted'] = test_preds\n",
        "sub_df.to_csv('sub{}.csv'.format(datetime.now().strftime('%Y%m%d_%H%M%S')), index=False)"
      ],
      "execution_count": null,
      "outputs": [
        {
          "output_type": "stream",
          "text": [
            "[15:10:12] WARNING: C:\\Users\\Administrator\\workspace\\xgboost-win64_release_1.2.0\\src\\gbm\\gbtree.cc:139: Tree method is automatically selected to be 'approx' for faster speed. To use old behavior (exact greedy algorithm on single machine), set tree_method to 'exact'.\n",
            "[0]\tvalidation_0-rmse:0.47539\tvalidation_1-rmse:0.47496\n",
            "Multiple eval metrics have been passed: 'validation_1-rmse' will be used for early stopping.\n",
            "\n",
            "Will train until validation_1-rmse hasn't improved in 100 rounds.\n",
            "[1]\tvalidation_0-rmse:0.45104\tvalidation_1-rmse:0.45121\n"
          ],
          "name": "stdout"
        },
        {
          "output_type": "error",
          "ename": "KeyboardInterrupt",
          "evalue": "",
          "traceback": [
            "\u001b[1;31m---------------------------------------------------------------------------\u001b[0m",
            "\u001b[1;31mKeyboardInterrupt\u001b[0m                         Traceback (most recent call last)",
            "\u001b[1;32m<ipython-input-64-ed558098cd50>\u001b[0m in \u001b[0;36m<module>\u001b[1;34m\u001b[0m\n\u001b[0;32m     12\u001b[0m \u001b[0mtest_X\u001b[0m \u001b[1;33m=\u001b[0m \u001b[0mtest_data\u001b[0m\u001b[1;33m\u001b[0m\u001b[1;33m\u001b[0m\u001b[0m\n\u001b[0;32m     13\u001b[0m \u001b[1;33m\u001b[0m\u001b[0m\n\u001b[1;32m---> 14\u001b[1;33m xgb_model.fit(\n\u001b[0m\u001b[0;32m     15\u001b[0m         \u001b[0mtrain_X\u001b[0m\u001b[1;33m,\u001b[0m\u001b[1;33m\u001b[0m\u001b[1;33m\u001b[0m\u001b[0m\n\u001b[0;32m     16\u001b[0m         \u001b[0mtrain_y\u001b[0m\u001b[1;33m,\u001b[0m\u001b[1;33m\u001b[0m\u001b[1;33m\u001b[0m\u001b[0m\n",
            "\u001b[1;32m~\\anaconda3\\lib\\site-packages\\xgboost\\sklearn.py\u001b[0m in \u001b[0;36mfit\u001b[1;34m(self, X, y, sample_weight, base_margin, eval_set, eval_metric, early_stopping_rounds, verbose, xgb_model, sample_weight_eval_set, callbacks)\u001b[0m\n\u001b[0;32m    540\u001b[0m                 \u001b[0mparams\u001b[0m\u001b[1;33m.\u001b[0m\u001b[0mupdate\u001b[0m\u001b[1;33m(\u001b[0m\u001b[1;33m{\u001b[0m\u001b[1;34m'eval_metric'\u001b[0m\u001b[1;33m:\u001b[0m \u001b[0meval_metric\u001b[0m\u001b[1;33m}\u001b[0m\u001b[1;33m)\u001b[0m\u001b[1;33m\u001b[0m\u001b[1;33m\u001b[0m\u001b[0m\n\u001b[0;32m    541\u001b[0m \u001b[1;33m\u001b[0m\u001b[0m\n\u001b[1;32m--> 542\u001b[1;33m         self._Booster = train(params, train_dmatrix,\n\u001b[0m\u001b[0;32m    543\u001b[0m                               \u001b[0mself\u001b[0m\u001b[1;33m.\u001b[0m\u001b[0mget_num_boosting_rounds\u001b[0m\u001b[1;33m(\u001b[0m\u001b[1;33m)\u001b[0m\u001b[1;33m,\u001b[0m \u001b[0mevals\u001b[0m\u001b[1;33m=\u001b[0m\u001b[0mevals\u001b[0m\u001b[1;33m,\u001b[0m\u001b[1;33m\u001b[0m\u001b[1;33m\u001b[0m\u001b[0m\n\u001b[0;32m    544\u001b[0m                               \u001b[0mearly_stopping_rounds\u001b[0m\u001b[1;33m=\u001b[0m\u001b[0mearly_stopping_rounds\u001b[0m\u001b[1;33m,\u001b[0m\u001b[1;33m\u001b[0m\u001b[1;33m\u001b[0m\u001b[0m\n",
            "\u001b[1;32m~\\anaconda3\\lib\\site-packages\\xgboost\\training.py\u001b[0m in \u001b[0;36mtrain\u001b[1;34m(params, dtrain, num_boost_round, evals, obj, feval, maximize, early_stopping_rounds, evals_result, verbose_eval, xgb_model, callbacks)\u001b[0m\n\u001b[0;32m    206\u001b[0m         \u001b[0mcallbacks\u001b[0m\u001b[1;33m.\u001b[0m\u001b[0mappend\u001b[0m\u001b[1;33m(\u001b[0m\u001b[0mcallback\u001b[0m\u001b[1;33m.\u001b[0m\u001b[0mrecord_evaluation\u001b[0m\u001b[1;33m(\u001b[0m\u001b[0mevals_result\u001b[0m\u001b[1;33m)\u001b[0m\u001b[1;33m)\u001b[0m\u001b[1;33m\u001b[0m\u001b[1;33m\u001b[0m\u001b[0m\n\u001b[0;32m    207\u001b[0m \u001b[1;33m\u001b[0m\u001b[0m\n\u001b[1;32m--> 208\u001b[1;33m     return _train_internal(params, dtrain,\n\u001b[0m\u001b[0;32m    209\u001b[0m                            \u001b[0mnum_boost_round\u001b[0m\u001b[1;33m=\u001b[0m\u001b[0mnum_boost_round\u001b[0m\u001b[1;33m,\u001b[0m\u001b[1;33m\u001b[0m\u001b[1;33m\u001b[0m\u001b[0m\n\u001b[0;32m    210\u001b[0m                            \u001b[0mevals\u001b[0m\u001b[1;33m=\u001b[0m\u001b[0mevals\u001b[0m\u001b[1;33m,\u001b[0m\u001b[1;33m\u001b[0m\u001b[1;33m\u001b[0m\u001b[0m\n",
            "\u001b[1;32m~\\anaconda3\\lib\\site-packages\\xgboost\\training.py\u001b[0m in \u001b[0;36m_train_internal\u001b[1;34m(params, dtrain, num_boost_round, evals, obj, feval, xgb_model, callbacks)\u001b[0m\n\u001b[0;32m     73\u001b[0m         \u001b[1;31m# Skip the first update if it is a recovery step.\u001b[0m\u001b[1;33m\u001b[0m\u001b[1;33m\u001b[0m\u001b[1;33m\u001b[0m\u001b[0m\n\u001b[0;32m     74\u001b[0m         \u001b[1;32mif\u001b[0m \u001b[0mversion\u001b[0m \u001b[1;33m%\u001b[0m \u001b[1;36m2\u001b[0m \u001b[1;33m==\u001b[0m \u001b[1;36m0\u001b[0m\u001b[1;33m:\u001b[0m\u001b[1;33m\u001b[0m\u001b[1;33m\u001b[0m\u001b[0m\n\u001b[1;32m---> 75\u001b[1;33m             \u001b[0mbst\u001b[0m\u001b[1;33m.\u001b[0m\u001b[0mupdate\u001b[0m\u001b[1;33m(\u001b[0m\u001b[0mdtrain\u001b[0m\u001b[1;33m,\u001b[0m \u001b[0mi\u001b[0m\u001b[1;33m,\u001b[0m \u001b[0mobj\u001b[0m\u001b[1;33m)\u001b[0m\u001b[1;33m\u001b[0m\u001b[1;33m\u001b[0m\u001b[0m\n\u001b[0m\u001b[0;32m     76\u001b[0m             \u001b[0mbst\u001b[0m\u001b[1;33m.\u001b[0m\u001b[0msave_rabit_checkpoint\u001b[0m\u001b[1;33m(\u001b[0m\u001b[1;33m)\u001b[0m\u001b[1;33m\u001b[0m\u001b[1;33m\u001b[0m\u001b[0m\n\u001b[0;32m     77\u001b[0m             \u001b[0mversion\u001b[0m \u001b[1;33m+=\u001b[0m \u001b[1;36m1\u001b[0m\u001b[1;33m\u001b[0m\u001b[1;33m\u001b[0m\u001b[0m\n",
            "\u001b[1;32m~\\anaconda3\\lib\\site-packages\\xgboost\\core.py\u001b[0m in \u001b[0;36mupdate\u001b[1;34m(self, dtrain, iteration, fobj)\u001b[0m\n\u001b[0;32m   1157\u001b[0m \u001b[1;33m\u001b[0m\u001b[0m\n\u001b[0;32m   1158\u001b[0m         \u001b[1;32mif\u001b[0m \u001b[0mfobj\u001b[0m \u001b[1;32mis\u001b[0m \u001b[1;32mNone\u001b[0m\u001b[1;33m:\u001b[0m\u001b[1;33m\u001b[0m\u001b[1;33m\u001b[0m\u001b[0m\n\u001b[1;32m-> 1159\u001b[1;33m             _check_call(_LIB.XGBoosterUpdateOneIter(self.handle,\n\u001b[0m\u001b[0;32m   1160\u001b[0m                                                     \u001b[0mctypes\u001b[0m\u001b[1;33m.\u001b[0m\u001b[0mc_int\u001b[0m\u001b[1;33m(\u001b[0m\u001b[0miteration\u001b[0m\u001b[1;33m)\u001b[0m\u001b[1;33m,\u001b[0m\u001b[1;33m\u001b[0m\u001b[1;33m\u001b[0m\u001b[0m\n\u001b[0;32m   1161\u001b[0m                                                     dtrain.handle))\n",
            "\u001b[1;31mKeyboardInterrupt\u001b[0m: "
          ]
        }
      ]
    },
    {
      "cell_type": "markdown",
      "metadata": {
        "id": "50VHm1j07zxs"
      },
      "source": [
        "# VAR"
      ]
    },
    {
      "cell_type": "markdown",
      "metadata": {
        "id": "YWwjQuKt76lM"
      },
      "source": [
        "## Dataloader"
      ]
    },
    {
      "cell_type": "code",
      "metadata": {
        "id": "swdtEQSl8USR"
      },
      "source": [
        "test_df_"
      ],
      "execution_count": null,
      "outputs": []
    },
    {
      "cell_type": "code",
      "metadata": {
        "id": "9Rg4f83272YQ"
      },
      "source": [
        "#We drop unclean testing set\n",
        "test_df_.drop(test_df_[test_df_.time == '2020-12-21T14:09:00Z'].index, inplace=True)\n",
        "test_df_.drop(test_df_[(test_df_.time.str.len() != 20)].index, inplace=True)\n",
        "test_df_.drop_duplicates(subset=['time', 'name', 'High', 'Low'], inplace=True)\n",
        "\n",
        "#Make a copy of test data for submittion\n",
        "sub_df = test_df_.copy()\n",
        "\n",
        "train_df_ = log_features(train_df_)\n",
        "test_df_ = log_features(test_df_)\n",
        "\n",
        "def onehot_col(df):\n",
        "    #remove non log features\n",
        "    df.drop(['id', 'Open', 'High', 'Low', 'Close', 'Volume',\n",
        "        'Quote asset volume', 'Taker buy base asset volume',\n",
        "        'Taker buy quote asset volume'], axis = 1, inplace = True)\n",
        "\n",
        "    #Seperate and rename\n",
        "    temp0 = df[df['name'] == 0]\n",
        "    temp1 = df[df['name'] == 1]\n",
        "    temp2 = df[df['name'] == 2]\n",
        "    temp3 = df[df['name'] == 3]\n",
        "\n",
        "    rename_list = ['target', 'log_diff_Open',\n",
        "        'log_diff_High', 'log_diff_Low', 'log_diff_Close', 'log_Volume',\n",
        "        'log_Quote asset volume', 'log_Taker buy base asset volume',\n",
        "        'log_Taker buy quote asset volume', 'Number of trades']\n",
        "\n",
        "\n",
        "    for col in rename_list:\n",
        "        temp0 = temp0.rename(columns={col: col + '_0'})\n",
        "        temp1 = temp1.rename(columns={col: col + '_1'})\n",
        "        temp2 = temp2.rename(columns={col: col + '_2'})\n",
        "        temp3 = temp3.rename(columns={col: col + '_3'})\n",
        "\n",
        "    #Merge df\n",
        "    df_ = temp0.merge(temp1,on='time').merge(temp2,on='time').merge(temp3,on='time')\n",
        "    df_.drop(['name_x', 'name_y'], axis = 1, inplace = True)\n",
        "\n",
        "    return df_\n",
        "\n",
        "data = onehot_col(train_df_)\n",
        "max_length = len(data)\n",
        "training_cutoff = int(max_length * 0.9)\n",
        "train_data = data.iloc[:training_cutoff]\n",
        "valid_data = data.iloc[training_cutoff:]\n",
        "test_data = onehot_col(test_df_)"
      ],
      "execution_count": null,
      "outputs": []
    },
    {
      "cell_type": "markdown",
      "metadata": {
        "id": "oviRyneGABl5"
      },
      "source": [
        "## Model training and testing"
      ]
    },
    {
      "cell_type": "code",
      "metadata": {
        "id": "EDCM8T-N_X26",
        "outputId": "a9961708-b81b-4f2b-d544-83d446c1bd10"
      },
      "source": [
        "#Training and create submittion file\n",
        "endog = train_data[['target_0', 'target_1', 'target_2', 'target_3']].astype(float)\n",
        "exog = train_data.drop(['target_0', 'target_1', 'target_2', 'target_3', 'time'], axis = 1).astype(float)\n",
        "Var_model = VAR(endog, exog)\n",
        "results = Var_model.fit()\n",
        "\n",
        "#Validation\n",
        "params = valid_data.drop(['target_0', 'target_1', 'target_2', 'target_3', 'time'], axis = 1).astype(float)\n",
        "valid_preds = results.forecast(endog.to_numpy(), len(params) , exog_future = params)\n",
        "\n",
        "valid_y = valid_data[['target_0', 'target_1', 'target_2', 'target_3']]\n",
        "valid_rmse = mean_squared_error(valid_y, valid_preds, squared=False)\n",
        "print('valid rmse: {}'.format(valid_rmse))\n",
        "\n",
        "#Testing\n",
        "df_test_ = test_data.copy()\n",
        "params = df_test_.drop(['time'], axis = 1).astype(float)\n",
        "endog = valid_data[['target_0', 'target_1', 'target_2', 'target_3']].astype(float)\n",
        "VAR_output = results.forecast(endog.to_numpy(), len(params) , exog_future = params)\n",
        "VAR_sub = pd.DataFrame(VAR_output)\n",
        "\n",
        "#Create submission file\n",
        "sub_df = sub_df.rename(columns={'id': 'Id'})\n",
        "sub_df = sub_df[['Id']]\n",
        "sub_df['Predicted'] = 0\n",
        "for i in range(4):\n",
        "    sub_df.iloc[i::4, 1] = VAR_sub.iloc[:, [i]].values\n",
        "\n",
        "#Add back unclean rows\n",
        "for i in range(511805, 511812, 2):\n",
        "    sub_df.loc[i] = sub_df.loc[i-1]\n",
        "    sub_df.Id[i] = int(sub_df.Id[i-1]) + 1\n",
        "for i in range(631596, 631600):\n",
        "    sub_df.loc[i] = sub_df.loc[i-4]\n",
        "    sub_df.Id[i] = int(sub_df.Id[i-4]) + 4\n",
        "sub_df.loc[631684] = [5524550,0]\n",
        "sub_df.Predicted[631684] = sub_df.Predicted[631683]\n",
        "for i in range(634886, 634893, 2):\n",
        "    sub_df.loc[i] = sub_df.loc[i-1]\n",
        "    sub_df.Id[i] = int(sub_df.Id[i-1]) + 1\n",
        "for i in range(654650, 654657, 2):\n",
        "    sub_df.loc[i] = sub_df.loc[i-1]\n",
        "    sub_df.Id[i] = int(sub_df.Id[i-1]) + 1\n",
        "\n",
        "#Output file\n",
        "sub_df.Id = sub_df.Id.astype(int)\n",
        "sub_df.to_csv('sub{}.csv'.format(datetime.now().strftime('%Y%m%d_%H%M%S')), index=False)"
      ],
      "execution_count": null,
      "outputs": [
        {
          "output_type": "stream",
          "text": [
            "valid rmse: 0.009178308561260715\n"
          ],
          "name": "stdout"
        }
      ]
    },
    {
      "cell_type": "markdown",
      "metadata": {
        "id": "i3djWbsQxBST"
      },
      "source": [
        "# Temporal Fusion Transformer\n",
        "\n",
        "Attempt at using TFT modelling to predict using pytorch forecast library, however, it requires too much memory which is not available to me"
      ]
    },
    {
      "cell_type": "code",
      "metadata": {
        "id": "3-rRQzC0g4Qi"
      },
      "source": [
        "# ! pip install pytorch-forecasting &> /dev/null\n",
        "# ! pip install pytorch-lightning &> /dev/null"
      ],
      "execution_count": null,
      "outputs": []
    },
    {
      "cell_type": "code",
      "metadata": {
        "id": "rYQRvzTQhYjF"
      },
      "source": [
        "# import pandas as pd\n",
        "# import numpy as np\n",
        "# import torch\n",
        "# import pytorch_lightning as pl\n",
        "# from pytorch_lightning.callbacks import EarlyStopping, LearningRateMonitor\n",
        "# from pytorch_lightning.loggers import TensorBoardLogger\n",
        "# from pytorch_forecasting import Baseline, TemporalFusionTransformer, TimeSeriesDataSet\n",
        "# from pytorch_forecasting.data import GroupNormalizer\n",
        "# from pytorch_forecasting.metrics import SMAPE, PoissonLoss, QuantileLoss\n",
        "# from pytorch_forecasting.models.temporal_fusion_transformer.tuning import optimize_hyperparameters\n",
        "# from pytorch_forecasting.data.encoders import NaNLabelEncoder\n",
        "# import tensorflow as tf \n",
        "# import tensorboard as tb \n",
        "# tf.io.gfile = tb.compat.tensorflow_stub.io.gfile"
      ],
      "execution_count": null,
      "outputs": []
    },
    {
      "cell_type": "markdown",
      "metadata": {
        "id": "DzWTkYhD0qki"
      },
      "source": [
        "## Dataset and Dataloader"
      ]
    },
    {
      "cell_type": "code",
      "metadata": {
        "id": "pnqhaYANxvlz"
      },
      "source": [
        "# train_df['time_idx'] = (train_df.index) // 4"
      ],
      "execution_count": null,
      "outputs": []
    },
    {
      "cell_type": "code",
      "metadata": {
        "id": "sPY2TXymh4ic"
      },
      "source": [
        "# train_data = train_df[[\n",
        "#                  'name', 'log_Open', 'log_High', 'log_Low', 'log_Close', \n",
        "#                  'log_Volume', 'log_Quote asset volume', 'log_Taker buy base asset volume',\n",
        "#                  'log_Taker buy quote asset volume', 'Number of trades', 'year',\n",
        "#                  'month', 'day', 'hour', 'minute', 'target', 'time_idx', 'time'\n",
        "#                 ]]"
      ],
      "execution_count": null,
      "outputs": []
    },
    {
      "cell_type": "code",
      "metadata": {
        "id": "8FHLOF9C0uBJ"
      },
      "source": [
        "max_length = train_data.time_idx.max()\n",
        "training_start = int(max_length * 0.6)\n",
        "training_cutoff = int(max_length * 0.9)\n",
        "max_prediction_length = int(max_length - training_cutoff)\n",
        "max_encoder_length = 32"
      ],
      "execution_count": null,
      "outputs": []
    },
    {
      "cell_type": "code",
      "metadata": {
        "colab": {
          "base_uri": "https://localhost:8080/"
        },
        "id": "-3YrqejN8JUC",
        "outputId": "1e5f0aa0-0c1a-40bf-8f79-f67d737eae4e"
      },
      "source": [
        "training = TimeSeriesDataSet(\n",
        "    train_data[lambda x: (training_start <= x.time_idx) & (x.time_idx <= training_cutoff)], \n",
        "    time_idx='time_idx',\n",
        "    target='target',\n",
        "    group_ids=['name'],\n",
        "    min_encoder_length=max_encoder_length // 2,\n",
        "    max_encoder_length=max_encoder_length,\n",
        "    min_prediction_length=1,\n",
        "    max_prediction_length=max_prediction_length,\n",
        "    static_categoricals=['name'],\n",
        "    static_reals=[],\n",
        "    time_varying_known_categoricals=['month', 'day', 'hour', 'minute'],\n",
        "    variable_groups={},\n",
        "    time_varying_known_reals=['time_idx'],\n",
        "    time_varying_unknown_categoricals=[],\n",
        "    time_varying_unknown_reals=[\n",
        "        'log_Open', 'log_High', 'log_Low', 'log_Close', 'log_Volume', \n",
        "        'log_Quote asset volume', 'log_Taker buy base asset volume',\n",
        "        'log_Taker buy quote asset volume', 'Number of trades'\n",
        "    ],\n",
        "    target_normalizer=GroupNormalizer(\n",
        "        groups=['name'], transformation=\"softplus\"\n",
        "    ),\n",
        "    add_relative_time_idx=True,\n",
        "    add_target_scales=True,\n",
        "    add_encoder_length=True,\n",
        "    categorical_encoders={\n",
        "        'month': NaNLabelEncoder(add_nan=True)\n",
        "    }\n",
        ")"
      ],
      "execution_count": null,
      "outputs": [
        {
          "output_type": "stream",
          "text": [
            "/usr/local/lib/python3.7/dist-packages/pytorch_forecasting/data/encoders.py:121: UserWarning:\n",
            "\n",
            "Found 10 unknown classes which were set to NaN\n",
            "\n"
          ],
          "name": "stderr"
        }
      ]
    },
    {
      "cell_type": "code",
      "metadata": {
        "colab": {
          "base_uri": "https://localhost:8080/"
        },
        "id": "SYZb0G7PG6aX",
        "outputId": "e72f1f6f-2be9-43de-e93e-736ff8418f7c"
      },
      "source": [
        "validation = TimeSeriesDataSet.from_dataset(training, train_data[lambda x: (training_start <= x.time_idx)], predict=True, stop_randomization=True)"
      ],
      "execution_count": null,
      "outputs": [
        {
          "output_type": "stream",
          "text": [
            "/usr/local/lib/python3.7/dist-packages/pytorch_forecasting/data/encoders.py:121: UserWarning:\n",
            "\n",
            "Found 12 unknown classes which were set to NaN\n",
            "\n"
          ],
          "name": "stderr"
        }
      ]
    },
    {
      "cell_type": "code",
      "metadata": {
        "id": "FghLLil3HJ0d"
      },
      "source": [
        "batch_size = 32  # set this between 32 to 128\n",
        "train_dataloader = training.to_dataloader(train=True, batch_size=batch_size, num_workers=0)\n",
        "val_dataloader = validation.to_dataloader(train=False, batch_size=batch_size * 10, num_workers=0)"
      ],
      "execution_count": null,
      "outputs": []
    },
    {
      "cell_type": "markdown",
      "metadata": {
        "id": "KROEpUT3G6tY"
      },
      "source": [
        "## Baseline model"
      ]
    },
    {
      "cell_type": "code",
      "metadata": {
        "colab": {
          "base_uri": "https://localhost:8080/"
        },
        "id": "NtUeYOSXaUJ6",
        "outputId": "d27e256e-3022-44d3-ec2f-d47158afa198"
      },
      "source": [
        "actuals = torch.cat([y for x, (y, weight) in iter(val_dataloader)])\n",
        "baseline_predictions = Baseline().predict(val_dataloader)\n",
        "(actuals - baseline_predictions).abs().mean().item()"
      ],
      "execution_count": null,
      "outputs": [
        {
          "output_type": "execute_result",
          "data": {
            "text/plain": [
              "0.0013469781260937452"
            ]
          },
          "metadata": {
            "tags": []
          },
          "execution_count": 44
        }
      ]
    },
    {
      "cell_type": "markdown",
      "metadata": {
        "id": "Zm57qsm_Haas"
      },
      "source": [
        "## Model"
      ]
    },
    {
      "cell_type": "code",
      "metadata": {
        "colab": {
          "base_uri": "https://localhost:8080/"
        },
        "id": "jyeTX9LIHcnz",
        "outputId": "86ddb7b0-5475-4498-abac-f172516e6f9e"
      },
      "source": [
        "# configure network and trainer\n",
        "pl.seed_everything(42)\n",
        "trainer = pl.Trainer(\n",
        "    gpus=0,\n",
        "    # clipping gradients is a hyperparameter and important to prevent divergance\n",
        "    # of the gradient for recurrent neural networks\n",
        "    gradient_clip_val=0.1,\n",
        ")\n",
        "\n",
        "\n",
        "tft = TemporalFusionTransformer.from_dataset(\n",
        "    training,\n",
        "    # not meaningful for finding the learning rate but otherwise very important\n",
        "    learning_rate=0.03,\n",
        "    hidden_size=16,  # most important hyperparameter apart from learning rate\n",
        "    # number of attention heads. Set to up to 4 for large datasets\n",
        "    attention_head_size=1,\n",
        "    dropout=0.1,  # between 0.1 and 0.3 are good values\n",
        "    hidden_continuous_size=8,  # set to <= hidden_size\n",
        "    output_size=7,  # 7 quantiles by default\n",
        "    loss=QuantileLoss(),\n",
        "    # reduce learning rate if no improvement in validation loss after x epochs\n",
        "    reduce_on_plateau_patience=4,\n",
        ")\n",
        "print(f\"Number of parameters in network: {tft.size()/1e3:.1f}k\")"
      ],
      "execution_count": null,
      "outputs": [
        {
          "output_type": "stream",
          "text": [
            "Global seed set to 42\n",
            "GPU available: False, used: False\n",
            "TPU available: False, using: 0 TPU cores\n"
          ],
          "name": "stderr"
        },
        {
          "output_type": "stream",
          "text": [
            "Number of parameters in network: 28.5k\n"
          ],
          "name": "stdout"
        }
      ]
    },
    {
      "cell_type": "code",
      "metadata": {
        "colab": {
          "base_uri": "https://localhost:8080/"
        },
        "id": "F2LoRcZTa_Fz",
        "outputId": "e482c4f4-b65e-4b6e-bb3b-e75f70b02254"
      },
      "source": [
        "res = trainer.tuner.lr_find(\n",
        "    tft,\n",
        "    train_dataloader=train_dataloader,\n",
        "    val_dataloaders=val_dataloader,\n",
        "    max_lr=10.0,\n",
        "    min_lr=1e-6,\n",
        ")\n",
        "\n",
        "print(f\"suggested learning rate: {res.suggestion()}\")\n",
        "fig = res.plot(show=True, suggest=True)\n",
        "fig.show()"
      ],
      "execution_count": null,
      "outputs": [
        {
          "output_type": "stream",
          "text": [
            "\n",
            "   | Name                               | Type                            | Params\n",
            "----------------------------------------------------------------------------------------\n",
            "0  | loss                               | QuantileLoss                    | 0     \n",
            "1  | logging_metrics                    | ModuleList                      | 0     \n",
            "2  | input_embeddings                   | MultiEmbedding                  | 1.6 K \n",
            "3  | prescalers                         | ModuleDict                      | 224   \n",
            "4  | static_variable_selection          | VariableSelectionNetwork        | 1.8 K \n",
            "5  | encoder_variable_selection         | VariableSelectionNetwork        | 9.0 K \n",
            "6  | decoder_variable_selection         | VariableSelectionNetwork        | 1.9 K \n",
            "7  | static_context_variable_selection  | GatedResidualNetwork            | 1.1 K \n",
            "8  | static_context_initial_hidden_lstm | GatedResidualNetwork            | 1.1 K \n",
            "9  | static_context_initial_cell_lstm   | GatedResidualNetwork            | 1.1 K \n",
            "10 | static_context_enrichment          | GatedResidualNetwork            | 1.1 K \n",
            "11 | lstm_encoder                       | LSTM                            | 2.2 K \n",
            "12 | lstm_decoder                       | LSTM                            | 2.2 K \n",
            "13 | post_lstm_gate_encoder             | GatedLinearUnit                 | 544   \n",
            "14 | post_lstm_add_norm_encoder         | AddNorm                         | 32    \n",
            "15 | static_enrichment                  | GatedResidualNetwork            | 1.4 K \n",
            "16 | multihead_attn                     | InterpretableMultiHeadAttention | 1.1 K \n",
            "17 | post_attn_gate_norm                | GateAddNorm                     | 576   \n",
            "18 | pos_wise_ff                        | GatedResidualNetwork            | 1.1 K \n",
            "19 | pre_output_gate_norm               | GateAddNorm                     | 576   \n",
            "20 | output_layer                       | Linear                          | 119   \n",
            "----------------------------------------------------------------------------------------\n",
            "28.5 K    Trainable params\n",
            "0         Non-trainable params\n",
            "28.5 K    Total params\n",
            "0.114     Total estimated model params size (MB)\n"
          ],
          "name": "stderr"
        }
      ]
    },
    {
      "cell_type": "code",
      "metadata": {
        "colab": {
          "base_uri": "https://localhost:8080/"
        },
        "id": "mjTfFufobg4t",
        "outputId": "55bb679a-ca47-4fc5-eaa4-bc8cc5350fd1"
      },
      "source": [
        "early_stop_callback = EarlyStopping(monitor=\"val_loss\", min_delta=1e-4, patience=10, verbose=False, mode=\"min\")\n",
        "lr_logger = LearningRateMonitor()  # log the learning rate\n",
        "logger = TensorBoardLogger(\"lightning_logs\")  # logging results to a tensorboard\n",
        "\n",
        "trainer = pl.Trainer(\n",
        "    max_epochs=30,\n",
        "    gpus=0,\n",
        "    weights_summary=\"top\",\n",
        "    gradient_clip_val=0.1,\n",
        "    limit_train_batches=30,  # coment in for training, running valiation every 30 batches\n",
        "    # fast_dev_run=True,  # comment in to check that networkor dataset has no serious bugs\n",
        "    callbacks=[lr_logger, early_stop_callback],\n",
        "    logger=logger,\n",
        ")\n",
        "\n",
        "\n",
        "tft = TemporalFusionTransformer.from_dataset(\n",
        "    training,\n",
        "    learning_rate=0.03,\n",
        "    hidden_size=16,\n",
        "    attention_head_size=1,\n",
        "    dropout=0.1,\n",
        "    hidden_continuous_size=8,\n",
        "    output_size=7,  # 7 quantiles by default\n",
        "    loss=QuantileLoss(),\n",
        "    log_interval=10,  # uncomment for learning rate finder and otherwise, e.g. to 10 for logging every 10 batches\n",
        "    reduce_on_plateau_patience=4,\n",
        ")\n",
        "print(f\"Number of parameters in network: {tft.size()/1e3:.1f}k\")"
      ],
      "execution_count": null,
      "outputs": [
        {
          "output_type": "stream",
          "text": [
            "GPU available: False, used: False\n",
            "TPU available: False, using: 0 TPU cores\n"
          ],
          "name": "stderr"
        },
        {
          "output_type": "stream",
          "text": [
            "Number of parameters in network: 29.7k\n"
          ],
          "name": "stdout"
        }
      ]
    },
    {
      "cell_type": "code",
      "metadata": {
        "colab": {
          "base_uri": "https://localhost:8080/",
          "height": 559,
          "referenced_widgets": [
            "1db5d607045b4d69a4a8f9c71aacc979",
            "851d03f4dcfe4f5fb5565bc3b4bfbc7e",
            "e97c7567e25348de93fa18934e453ac0",
            "96ce324e2a734912a81d8260de4ea94b",
            "9eb1f622c04a4be4bbdfdefb3cdf0e11",
            "265d49ead88441d59689dd9503b39af2",
            "a62a7169f77845f6be55fb25473c0a9f",
            "016435bcf0ea48658a372fffa52da701",
            "3e7f10b655504752b96908e775d8315b",
            "f4a886b25ac448548f051b39ff7ebe1e",
            "ca807860b6e64817b444f6aaa5b12cb9",
            "99278b5dd7534e8892b2ac27525da09a",
            "d92844cb9465414eb00749e57c9056c6",
            "e7f55f6475c8468885a1bcf3ad8d706c",
            "12772a14219f482d884282fad65668ed",
            "1191be466fca42f9938ca74da23780bc",
            "a1ccfcd5710540e8802f515794d295be",
            "e5c9058fc22f47fd956d64647b357eb9",
            "1044bfc68e5847e7aebfb559ad50f4be",
            "2818ae96f9f245e3aaa6d31d206a1cc9",
            "dbe9ede021d4458cbf6ba6788dd5d537",
            "41d28fc47e6b4918b1661c92ffcd3e73",
            "1fa890a414f247669fdccbd73a0574c4",
            "8752d16e940e4364b4c43d4a5b8afbe3"
          ]
        },
        "id": "RNjB1V2Zb5EZ",
        "outputId": "a79a368a-47dd-4475-cc00-d7b2673839ec"
      },
      "source": [
        "trainer.fit(\n",
        "    tft,\n",
        "    train_dataloader=train_dataloader,\n",
        "    val_dataloaders=val_dataloader,\n",
        ")"
      ],
      "execution_count": null,
      "outputs": [
        {
          "output_type": "stream",
          "text": [
            "\n",
            "   | Name                               | Type                            | Params\n",
            "----------------------------------------------------------------------------------------\n",
            "0  | loss                               | QuantileLoss                    | 0     \n",
            "1  | logging_metrics                    | ModuleList                      | 0     \n",
            "2  | input_embeddings                   | MultiEmbedding                  | 1.3 K \n",
            "3  | prescalers                         | ModuleDict                      | 256   \n",
            "4  | static_variable_selection          | VariableSelectionNetwork        | 3.4 K \n",
            "5  | encoder_variable_selection         | VariableSelectionNetwork        | 8.0 K \n",
            "6  | decoder_variable_selection         | VariableSelectionNetwork        | 2.7 K \n",
            "7  | static_context_variable_selection  | GatedResidualNetwork            | 1.1 K \n",
            "8  | static_context_initial_hidden_lstm | GatedResidualNetwork            | 1.1 K \n",
            "9  | static_context_initial_cell_lstm   | GatedResidualNetwork            | 1.1 K \n",
            "10 | static_context_enrichment          | GatedResidualNetwork            | 1.1 K \n",
            "11 | lstm_encoder                       | LSTM                            | 2.2 K \n",
            "12 | lstm_decoder                       | LSTM                            | 2.2 K \n",
            "13 | post_lstm_gate_encoder             | GatedLinearUnit                 | 544   \n",
            "14 | post_lstm_add_norm_encoder         | AddNorm                         | 32    \n",
            "15 | static_enrichment                  | GatedResidualNetwork            | 1.4 K \n",
            "16 | multihead_attn                     | InterpretableMultiHeadAttention | 1.1 K \n",
            "17 | post_attn_gate_norm                | GateAddNorm                     | 576   \n",
            "18 | pos_wise_ff                        | GatedResidualNetwork            | 1.1 K \n",
            "19 | pre_output_gate_norm               | GateAddNorm                     | 576   \n",
            "20 | output_layer                       | Linear                          | 119   \n",
            "----------------------------------------------------------------------------------------\n",
            "29.7 K    Trainable params\n",
            "0         Non-trainable params\n",
            "29.7 K    Total params\n",
            "0.119     Total estimated model params size (MB)\n"
          ],
          "name": "stderr"
        },
        {
          "output_type": "display_data",
          "data": {
            "application/vnd.jupyter.widget-view+json": {
              "model_id": "1db5d607045b4d69a4a8f9c71aacc979",
              "version_major": 2,
              "version_minor": 0
            },
            "text/plain": [
              "HBox(children=(FloatProgress(value=1.0, bar_style='info', description='Validation sanity check', layout=Layout…"
            ]
          },
          "metadata": {
            "tags": []
          }
        },
        {
          "output_type": "stream",
          "text": [
            "\r"
          ],
          "name": "stdout"
        },
        {
          "output_type": "display_data",
          "data": {
            "application/vnd.jupyter.widget-view+json": {
              "model_id": "3e7f10b655504752b96908e775d8315b",
              "version_major": 2,
              "version_minor": 0
            },
            "text/plain": [
              "HBox(children=(FloatProgress(value=1.0, bar_style='info', description='Training', layout=Layout(flex='2'), max…"
            ]
          },
          "metadata": {
            "tags": []
          }
        },
        {
          "output_type": "display_data",
          "data": {
            "application/vnd.jupyter.widget-view+json": {
              "model_id": "a1ccfcd5710540e8802f515794d295be",
              "version_major": 2,
              "version_minor": 0
            },
            "text/plain": [
              "HBox(children=(FloatProgress(value=1.0, bar_style='info', description='Validating', layout=Layout(flex='2'), m…"
            ]
          },
          "metadata": {
            "tags": []
          }
        },
        {
          "output_type": "execute_result",
          "data": {
            "text/plain": [
              "1"
            ]
          },
          "metadata": {
            "tags": []
          },
          "execution_count": 18
        }
      ]
    },
    {
      "cell_type": "code",
      "metadata": {
        "id": "01_JMvhI7pq5"
      },
      "source": [
        ""
      ],
      "execution_count": null,
      "outputs": []
    }
  ]
}